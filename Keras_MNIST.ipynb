{
  "nbformat": 4,
  "nbformat_minor": 0,
  "metadata": {
    "colab": {
      "name": "Keras MNIST.ipynb",
      "version": "0.3.2",
      "provenance": [],
      "collapsed_sections": []
    },
    "kernelspec": {
      "name": "python3",
      "display_name": "Python 3"
    },
    "accelerator": "GPU"
  },
  "cells": [
    {
      "cell_type": "code",
      "metadata": {
        "id": "ESJPvpD1D13F",
        "colab_type": "code",
        "colab": {}
      },
      "source": [
        ""
      ],
      "execution_count": 0,
      "outputs": []
    },
    {
      "cell_type": "code",
      "metadata": {
        "id": "bCf4IKdFEYFl",
        "colab_type": "code",
        "outputId": "20c98a9f-d5a1-4a8b-d788-ead732b98ae3",
        "colab": {
          "base_uri": "https://localhost:8080/",
          "height": 34
        }
      },
      "source": [
        "from keras.datasets import mnist \n",
        "import seaborn as sns\n",
        "\n",
        "# If keras is not using tensorflow as backend set \"KERAS_BACKEND=tensorflow\" by this command"
      ],
      "execution_count": 0,
      "outputs": [
        {
          "output_type": "stream",
          "text": [
            "Using TensorFlow backend.\n"
          ],
          "name": "stderr"
        }
      ]
    },
    {
      "cell_type": "code",
      "metadata": {
        "id": "dy5RHZaGEdau",
        "colab_type": "code",
        "colab": {}
      },
      "source": [
        "import matplotlib.pyplot as plt\n",
        "import numpy as np\n",
        "\n",
        "# Function to update the plots for each epoch and error\n",
        "# vl = Validation Loss (Test)  trl = Train loss (Maybe)\n",
        "\n",
        "def plot( x, vl, trl, ax ):\n",
        "    ax.plot(x, vl, 'b', label=\"Validation Loss\")\n",
        "    ax.plot(x, trl, 'r', label=\"Train Loss\")\n",
        "    plt.legend()\n",
        "    plt.grid()\n",
        "    fig.canvas.draw()\n",
        "    \n",
        "# Ref : https://gist.github.com/greydanus/f6eee59eaf1d90fcb3b534a25362cea4\n",
        "# Ref : https://stackoverflow.com/a/14434334"
      ],
      "execution_count": 0,
      "outputs": []
    },
    {
      "cell_type": "code",
      "metadata": {
        "id": "ktqRLw6xFo76",
        "colab_type": "code",
        "outputId": "31f06f0a-c7eb-442a-b109-40bfc7a8a6be",
        "colab": {
          "base_uri": "https://localhost:8080/",
          "height": 52
        }
      },
      "source": [
        "( xtr, ytr ) , ( xte, yte ) = mnist.load_data()"
      ],
      "execution_count": 0,
      "outputs": [
        {
          "output_type": "stream",
          "text": [
            "Downloading data from https://s3.amazonaws.com/img-datasets/mnist.npz\n",
            "11493376/11490434 [==============================] - 1s 0us/step\n"
          ],
          "name": "stdout"
        }
      ]
    },
    {
      "cell_type": "code",
      "metadata": {
        "id": "nNnDWsvzF5bO",
        "colab_type": "code",
        "outputId": "5717af0b-8990-48a2-fe29-f988d151608a",
        "colab": {
          "base_uri": "https://localhost:8080/",
          "height": 52
        }
      },
      "source": [
        "print(\" No. of training points : \", xtr.shape[0], \" and each image is of shape : \", xtr.shape[1:] )\n",
        "print(\" No. of test points : \", xte.shape[0], \" and each image is of shape : \", xte.shape[1:] )"
      ],
      "execution_count": 0,
      "outputs": [
        {
          "output_type": "stream",
          "text": [
            " No. of training points :  60000  and each image is of shape :  (28, 28)\n",
            " No. of test points :  10000  and each image is of shape :  (28, 28)\n"
          ],
          "name": "stdout"
        }
      ]
    },
    {
      "cell_type": "code",
      "metadata": {
        "id": "pjXTR6jUGdq5",
        "colab_type": "code",
        "outputId": "121c2768-d3ae-4496-f1c1-e0807013747d",
        "colab": {
          "base_uri": "https://localhost:8080/",
          "height": 52
        }
      },
      "source": [
        "# Input shape its 2 dimensional vector for each image we have a (28*28) vector\n",
        "# We will convert the (28*28) vector into single dimensional vector of 1 * 784 \n",
        "\n",
        "xtr = xtr.reshape( xtr.shape[0], xtr.shape[1] * xtr.shape[2] ) \n",
        "xte = xte.reshape( xte.shape[0], xte.shape[1] * xte.shape[2] ) \n",
        "\n",
        "print( xtr.shape )\n",
        "print( xte.shape )"
      ],
      "execution_count": 0,
      "outputs": [
        {
          "output_type": "stream",
          "text": [
            "(60000, 784)\n",
            "(10000, 784)\n"
          ],
          "name": "stdout"
        }
      ]
    },
    {
      "cell_type": "code",
      "metadata": {
        "id": "Lcx0ca9sGiQp",
        "colab_type": "code",
        "outputId": "b4172d96-31a7-4e7e-c08b-1de71510639c",
        "colab": {
          "base_uri": "https://localhost:8080/",
          "height": 52
        }
      },
      "source": [
        "print(\" No. of training points : \", xtr.shape[0], \" and each image is of shape : \", xtr.shape[1] )\n",
        "print(\" No. of test points : \", xte.shape[0], \" and each image is of shape : \", xte.shape[1] )"
      ],
      "execution_count": 0,
      "outputs": [
        {
          "output_type": "stream",
          "text": [
            " No. of training points :  60000  and each image is of shape :  784\n",
            " No. of test points :  10000  and each image is of shape :  784\n"
          ],
          "name": "stdout"
        }
      ]
    },
    {
      "cell_type": "code",
      "metadata": {
        "id": "xSKZui2yHupV",
        "colab_type": "code",
        "outputId": "664263a0-8ab3-4c9f-ffe8-3c4bc4872488",
        "colab": {
          "base_uri": "https://localhost:8080/",
          "height": 158
        }
      },
      "source": [
        "print( xtr )\n",
        "type( xtr )"
      ],
      "execution_count": 0,
      "outputs": [
        {
          "output_type": "stream",
          "text": [
            "[[0 0 0 ... 0 0 0]\n",
            " [0 0 0 ... 0 0 0]\n",
            " [0 0 0 ... 0 0 0]\n",
            " ...\n",
            " [0 0 0 ... 0 0 0]\n",
            " [0 0 0 ... 0 0 0]\n",
            " [0 0 0 ... 0 0 0]]\n"
          ],
          "name": "stdout"
        },
        {
          "output_type": "execute_result",
          "data": {
            "text/plain": [
              "numpy.ndarray"
            ]
          },
          "metadata": {
            "tags": []
          },
          "execution_count": 7
        }
      ]
    },
    {
      "cell_type": "code",
      "metadata": {
        "id": "1HeGpJ4mH2i7",
        "colab_type": "code",
        "outputId": "4bbd5cb5-8865-489b-d077-5d63b7e3b562",
        "colab": {
          "base_uri": "https://localhost:8080/",
          "height": 439
        }
      },
      "source": [
        "xtr[0][90:400]"
      ],
      "execution_count": 0,
      "outputs": [
        {
          "output_type": "execute_result",
          "data": {
            "text/plain": [
              "array([  0,   0,   0,   0,   0,   0,   0,   0,   0,   0,   0,   0,   0,\n",
              "         0,   0,   0,   0,   0,   0,   0,   0,   0,   0,   0,   0,   0,\n",
              "         0,   0,   0,   0,   0,   0,   0,   0,   0,   0,   0,   0,   0,\n",
              "         0,   0,   0,   0,   0,   0,   0,   0,   0,   0,   0,   0,   0,\n",
              "         0,   0,   0,   0,   0,   0,   0,   0,   0,   0,   3,  18,  18,\n",
              "        18, 126, 136, 175,  26, 166, 255, 247, 127,   0,   0,   0,   0,\n",
              "         0,   0,   0,   0,   0,   0,   0,   0,  30,  36,  94, 154, 170,\n",
              "       253, 253, 253, 253, 253, 225, 172, 253, 242, 195,  64,   0,   0,\n",
              "         0,   0,   0,   0,   0,   0,   0,   0,   0,  49, 238, 253, 253,\n",
              "       253, 253, 253, 253, 253, 253, 251,  93,  82,  82,  56,  39,   0,\n",
              "         0,   0,   0,   0,   0,   0,   0,   0,   0,   0,   0,  18, 219,\n",
              "       253, 253, 253, 253, 253, 198, 182, 247, 241,   0,   0,   0,   0,\n",
              "         0,   0,   0,   0,   0,   0,   0,   0,   0,   0,   0,   0,   0,\n",
              "         0,  80, 156, 107, 253, 253, 205,  11,   0,  43, 154,   0,   0,\n",
              "         0,   0,   0,   0,   0,   0,   0,   0,   0,   0,   0,   0,   0,\n",
              "         0,   0,   0,   0,  14,   1, 154, 253,  90,   0,   0,   0,   0,\n",
              "         0,   0,   0,   0,   0,   0,   0,   0,   0,   0,   0,   0,   0,\n",
              "         0,   0,   0,   0,   0,   0,   0,   0, 139, 253, 190,   2,   0,\n",
              "         0,   0,   0,   0,   0,   0,   0,   0,   0,   0,   0,   0,   0,\n",
              "         0,   0,   0,   0,   0,   0,   0,   0,   0,   0,  11, 190, 253,\n",
              "        70,   0,   0,   0,   0,   0,   0,   0,   0,   0,   0,   0,   0,\n",
              "         0,   0,   0,   0,   0,   0,   0,   0,   0,   0,   0,   0,   0,\n",
              "        35, 241, 225, 160, 108,   1,   0,   0,   0,   0,   0,   0,   0,\n",
              "         0,   0,   0,   0,   0,   0,   0,   0,   0,   0,   0], dtype=uint8)"
            ]
          },
          "metadata": {
            "tags": []
          },
          "execution_count": 8
        }
      ]
    },
    {
      "cell_type": "markdown",
      "metadata": {
        "id": "1z_xw5AmIlR2",
        "colab_type": "text"
      },
      "source": [
        "If we observe the above matrix we can see that each cell has a value between 0 - 255. \n",
        "\n",
        "Before we move to apply machine learning algorithms lets try to normalize the data\n",
        "\n",
        "X =>  ( X - Xmin ) / ( Xmax - Xmin ) = X / 255\n",
        "\n",
        "here, Xmin = 0  and Xmax = 255 \n",
        "\n",
        "xtr = xtr / 255\n",
        "\n",
        "xte = xte / 255"
      ]
    },
    {
      "cell_type": "code",
      "metadata": {
        "id": "vObOXoN2H-eT",
        "colab_type": "code",
        "colab": {}
      },
      "source": [
        "xtr = xtr / 255\n",
        "\n",
        "xte = xte / 255"
      ],
      "execution_count": 0,
      "outputs": []
    },
    {
      "cell_type": "code",
      "metadata": {
        "id": "AbEBBErfJp84",
        "colab_type": "code",
        "outputId": "428d426f-f2a9-4286-a872-b6b102746fc5",
        "colab": {
          "base_uri": "https://localhost:8080/",
          "height": 545
        }
      },
      "source": [
        "print( xtr[0][130:300] )\n",
        "\n",
        "type(xtr)"
      ],
      "execution_count": 0,
      "outputs": [
        {
          "output_type": "stream",
          "text": [
            "[0.         0.         0.         0.         0.         0.\n",
            " 0.         0.         0.         0.         0.         0.\n",
            " 0.         0.         0.         0.         0.         0.\n",
            " 0.         0.         0.         0.         0.01176471 0.07058824\n",
            " 0.07058824 0.07058824 0.49411765 0.53333333 0.68627451 0.10196078\n",
            " 0.65098039 1.         0.96862745 0.49803922 0.         0.\n",
            " 0.         0.         0.         0.         0.         0.\n",
            " 0.         0.         0.         0.         0.11764706 0.14117647\n",
            " 0.36862745 0.60392157 0.66666667 0.99215686 0.99215686 0.99215686\n",
            " 0.99215686 0.99215686 0.88235294 0.6745098  0.99215686 0.94901961\n",
            " 0.76470588 0.25098039 0.         0.         0.         0.\n",
            " 0.         0.         0.         0.         0.         0.\n",
            " 0.         0.19215686 0.93333333 0.99215686 0.99215686 0.99215686\n",
            " 0.99215686 0.99215686 0.99215686 0.99215686 0.99215686 0.98431373\n",
            " 0.36470588 0.32156863 0.32156863 0.21960784 0.15294118 0.\n",
            " 0.         0.         0.         0.         0.         0.\n",
            " 0.         0.         0.         0.         0.         0.07058824\n",
            " 0.85882353 0.99215686 0.99215686 0.99215686 0.99215686 0.99215686\n",
            " 0.77647059 0.71372549 0.96862745 0.94509804 0.         0.\n",
            " 0.         0.         0.         0.         0.         0.\n",
            " 0.         0.         0.         0.         0.         0.\n",
            " 0.         0.         0.         0.         0.31372549 0.61176471\n",
            " 0.41960784 0.99215686 0.99215686 0.80392157 0.04313725 0.\n",
            " 0.16862745 0.60392157 0.         0.         0.         0.\n",
            " 0.         0.         0.         0.         0.         0.\n",
            " 0.         0.         0.         0.         0.         0.\n",
            " 0.         0.         0.         0.05490196 0.00392157 0.60392157\n",
            " 0.99215686 0.35294118 0.         0.         0.         0.\n",
            " 0.         0.        ]\n"
          ],
          "name": "stdout"
        },
        {
          "output_type": "execute_result",
          "data": {
            "text/plain": [
              "numpy.ndarray"
            ]
          },
          "metadata": {
            "tags": []
          },
          "execution_count": 10
        }
      ]
    },
    {
      "cell_type": "code",
      "metadata": {
        "id": "zpBAXMIJJsDB",
        "colab_type": "code",
        "outputId": "ac7dd4cc-2066-4f17-aa8b-e5a4691a541d",
        "colab": {
          "base_uri": "https://localhost:8080/",
          "height": 34
        }
      },
      "source": [
        "# Here we have class number for each image\n",
        "\n",
        "print(\" Class label of first image :\", ytr[0] )\n",
        "\n",
        "# lets convert this into a 10 dimensional vector\n",
        "# ex: consider an image is 5 convert it into => [0, 0, 0, 0, 0, 1, 0, 0, 0, 0]\n",
        "# this conversion is needed for MLPs "
      ],
      "execution_count": 0,
      "outputs": [
        {
          "output_type": "stream",
          "text": [
            " Class label of first image : 5\n"
          ],
          "name": "stdout"
        }
      ]
    },
    {
      "cell_type": "code",
      "metadata": {
        "id": "FqM54aH4K-Xi",
        "colab_type": "code",
        "outputId": "67817ab6-4310-4095-c940-997cd9ad04d3",
        "colab": {
          "base_uri": "https://localhost:8080/",
          "height": 70
        }
      },
      "source": [
        "# Understanding to_categorical : Converts a class vector (integers) to binary class matrix.\n",
        "# keras.utils.to_categorical(y, num_classes=None, dtype='float32')\n",
        "\n",
        "from keras.utils import np_utils\n",
        "\n",
        "l = [0, 1, 2]\n",
        "\n",
        "np_utils.to_categorical(l)\n",
        "\n",
        "# to_categorical`: converts l into a matrix with as many columns as there are classes. \n",
        "# The number of rows stays the same."
      ],
      "execution_count": 0,
      "outputs": [
        {
          "output_type": "execute_result",
          "data": {
            "text/plain": [
              "array([[1., 0., 0.],\n",
              "       [0., 1., 0.],\n",
              "       [0., 0., 1.]], dtype=float32)"
            ]
          },
          "metadata": {
            "tags": []
          },
          "execution_count": 12
        }
      ]
    },
    {
      "cell_type": "code",
      "metadata": {
        "id": "jjntUzjuKeoT",
        "colab_type": "code",
        "outputId": "272f0529-0509-4b33-f60d-b72f28e582a1",
        "colab": {
          "base_uri": "https://localhost:8080/",
          "height": 34
        }
      },
      "source": [
        "ytr = np_utils.to_categorical( ytr, 10 )\n",
        "yte = np_utils.to_categorical( yte, 10 )\n",
        "\n",
        "# to_categorical(y, num_classes=None, dtype='float32')\n",
        "\n",
        "print(\" Class label of first image : \", ytr[0] )\n"
      ],
      "execution_count": 0,
      "outputs": [
        {
          "output_type": "stream",
          "text": [
            " Class label of first image :  [0. 0. 0. 0. 0. 1. 0. 0. 0. 0.]\n"
          ],
          "name": "stdout"
        }
      ]
    },
    {
      "cell_type": "code",
      "metadata": {
        "id": "0J65eAViLGUh",
        "colab_type": "code",
        "colab": {}
      },
      "source": [
        ""
      ],
      "execution_count": 0,
      "outputs": []
    },
    {
      "cell_type": "markdown",
      "metadata": {
        "id": "1gilB_WhWNJS",
        "colab_type": "text"
      },
      "source": [
        "## Sequential Model with Softmax"
      ]
    },
    {
      "cell_type": "markdown",
      "metadata": {
        "id": "WmWmzIH-NLZB",
        "colab_type": "text"
      },
      "source": [
        "<font size=3>The Sequential model is a linear stack of layers.\n",
        "\n",
        "You can create a Sequential model by passing a list of layer instances to the constructor:\n",
        "\n",
        "```\n",
        "from keras.models import Sequential\n",
        "from keras.layers import Dense, Activation\n",
        "\n",
        "model = Sequential([\n",
        "                    Dense( 32,  input_shape = ( 784, ) ),\n",
        "                    Activation('relu'),\n",
        "                    Dense(10),\n",
        "                    Activation('softmax'),\n",
        "                   ])  \n",
        "```\n",
        "\n",
        "You can also simply add layers via the .add( ) method:\n",
        "\n",
        "```\n",
        "model = Sequential()\n",
        "model.add( Dense( 32,  input_dim = 784 ))\n",
        "model.add( Activation('relu') )\n",
        "```\n",
        "</font>\n",
        "\n",
        "<i> Ref : https://keras.io/getting-started/sequential-model-guide/"
      ]
    },
    {
      "cell_type": "code",
      "metadata": {
        "id": "7L7LeE3cNMWq",
        "colab_type": "code",
        "colab": {}
      },
      "source": [
        "# Model parameters\n",
        "\n",
        "op = 10              # output dimension\n",
        "ip = xtr.shape[1]    # input  dimension\n",
        "\n",
        "batch = 128 \n",
        "epoch = 20"
      ],
      "execution_count": 0,
      "outputs": []
    },
    {
      "cell_type": "markdown",
      "metadata": {
        "id": "5j6Hy6hwQCfu",
        "colab_type": "text"
      },
      "source": [
        "<font size=3>\n",
        "The model needs to know what input shape it should expect. \n",
        "\n",
        "For this reason, the first layer in a Sequential model needs to receive information about its input shape. \n",
        "\n",
        "We can use input_shape and input_dim to pass the shape of input, output dim \n",
        "represent the number of nodes need in that layer here we have 10 nodes\n",
        "  <br><br>\n",
        " \n",
        "Dense implements the operation : output = activation( dot( input,   kernel ) + bias )    \n",
        "  \n",
        "  where activation is the element-wise activation function passed as the activation argument, kernel is a weights matrix created by the layer, and bias is a bias vector created by the layer (only applicable if use_bias is True).\n",
        " \n",
        "  i.e; output = activation( w.T * x + b )\n",
        "\n",
        "  \n",
        "```\n",
        "keras.layers.Dense( units, activation=None, use_bias=True, \n",
        "                    kernel_initializer='glorot_uniform', bias_initializer='zeros', \n",
        "                    kernel_regularizer=None, bias_regularizer=None, \n",
        "                    activity_regularizer=None, kernel_constraint=None, \n",
        "                    bias_constraint=None )\n",
        "```\n",
        "  Here, units: Positive integer, dimensionality of the output space.<br><br>\n",
        "  \n",
        " Activations can either be used through an Activation layer, or through the activation argument supported by all forward layers:\n",
        "\n",
        " \n",
        "\n",
        "\n",
        "```\n",
        "from keras.layers import Activation, Dense\n",
        "\n",
        "model.add(Dense(64))\n",
        "model.add(Activation('tanh'))\n",
        "  \n",
        "# This is equivalent to :\n",
        "model.add(Dense(64, activation='tanh'))\n",
        "```\n",
        "there are many activation functions  available ex: tanh, relu, softmax"
      ]
    },
    {
      "cell_type": "code",
      "metadata": {
        "id": "K2KCFWbaO1C1",
        "colab_type": "code",
        "outputId": "4176e482-29f1-404c-94c5-f9e84a5aca88",
        "colab": {
          "base_uri": "https://localhost:8080/",
          "height": 90
        }
      },
      "source": [
        "# Building a model\n",
        "\n",
        "from keras.models import Sequential \n",
        "from keras.layers import Dense, Activation \n",
        "\n",
        "\n",
        "model = Sequential()\n",
        "\n",
        "\n",
        "model.add( Dense( op, input_dim = ip, activation = 'softmax' ))\n",
        "\n",
        "# here op = output dimension"
      ],
      "execution_count": 0,
      "outputs": [
        {
          "output_type": "stream",
          "text": [
            "WARNING:tensorflow:From /usr/local/lib/python3.6/dist-packages/tensorflow/python/framework/op_def_library.py:263: colocate_with (from tensorflow.python.framework.ops) is deprecated and will be removed in a future version.\n",
            "Instructions for updating:\n",
            "Colocations handled automatically by placer.\n"
          ],
          "name": "stdout"
        }
      ]
    },
    {
      "cell_type": "markdown",
      "metadata": {
        "id": "6bkiOo_5QXlW",
        "colab_type": "text"
      },
      "source": [
        "<font size=3>\n",
        "Before training a model, you need to configure the learning process, which is done via the compile method.\n",
        "\n",
        "It receives three arguments:\n",
        "\n",
        "<b>An optimizer </b> This could be the string identifier of an existing optimizer (such as rmsprop or adagrad), or an instance of the Optimizer class.\n",
        "\n",
        "<b>A loss function </b> This is the objective that the model will try to minimize. It can be the string identifier of an existing loss function (such as categorical_crossentropy or mse), or it can be an objective function.\n",
        "\n",
        "<b>A list of metrics</b> For any classification problem you will want to set this to metrics=['accuracy']. A metric could be the string identifier of an existing metric or a custom metric function.\n",
        "  \n",
        " </font>\n",
        " <i>\n",
        "  \n",
        "  Ref : https://keras.io/optimizers/\n",
        "  \n",
        "  Ref : https://keras.io/losses/"
      ]
    },
    {
      "cell_type": "code",
      "metadata": {
        "id": "xdEan2rhQvpX",
        "colab_type": "code",
        "colab": {}
      },
      "source": [
        "model.compile( optimizer = 'sgd', loss = 'categorical_crossentropy', metrics = ['accuracy'] )\n",
        "\n",
        "# Note: When using the categorical_crossentropy loss, our targets should be in categorical format \n",
        "# (e.g. if we have 10 classes, the target for each sample should be a 10-dimensional vector \n",
        "# that is all-zeros except for a 1 at the index corresponding to the class of the sample).\n",
        "\n",
        "# That is why we converted out labels into vectors"
      ],
      "execution_count": 0,
      "outputs": []
    },
    {
      "cell_type": "markdown",
      "metadata": {
        "id": "UNla8PZjR-rO",
        "colab_type": "text"
      },
      "source": [
        "<font size=3>\n",
        "Keras models are trained on Numpy arrays of input data and labels. For training a model, you will typically use the fit function. \n",
        "\n",
        "  \n",
        "```\n",
        "fit( x=None, y=None, batch_size=None, epochs=1, verbose=1, callbacks=None, \n",
        "  validation_split=0.0, validation_data=None, shuffle=True, class_weight=None,\n",
        "  sample_weight=None, initial_epoch=0, steps_per_epoch=None, validation_steps=None,\n",
        "  validation_freq=1)\n",
        "  ```\n",
        "  \n",
        "\n",
        " fit() function Trains the model for a fixed number of epochs (iterations on a dataset).\n",
        "\n",
        "it returns A History object. Its History.history attribute is a record of training loss values and \n",
        "metrics values at successive epochs, as well as validation loss values and validation metrics values (if applicable).\n",
        "\n"
      ]
    },
    {
      "cell_type": "code",
      "metadata": {
        "id": "8EgbCyAERwdI",
        "colab_type": "code",
        "outputId": "0c0c0b0b-158e-4265-d85b-3174b28a748d",
        "colab": {
          "base_uri": "https://localhost:8080/",
          "height": 811
        }
      },
      "source": [
        "history = model.fit( xtr, ytr, batch, epoch, verbose = 1, validation_data = (xte, yte) )  "
      ],
      "execution_count": 0,
      "outputs": [
        {
          "output_type": "stream",
          "text": [
            "WARNING:tensorflow:From /usr/local/lib/python3.6/dist-packages/tensorflow/python/ops/math_ops.py:3066: to_int32 (from tensorflow.python.ops.math_ops) is deprecated and will be removed in a future version.\n",
            "Instructions for updating:\n",
            "Use tf.cast instead.\n",
            "Train on 60000 samples, validate on 10000 samples\n",
            "Epoch 1/20\n",
            "60000/60000 [==============================] - 4s 73us/step - loss: 1.2672 - acc: 0.7074 - val_loss: 0.8072 - val_acc: 0.8341\n",
            "Epoch 2/20\n",
            "60000/60000 [==============================] - 2s 25us/step - loss: 0.7130 - acc: 0.8396 - val_loss: 0.6055 - val_acc: 0.8647\n",
            "Epoch 3/20\n",
            "60000/60000 [==============================] - 2s 25us/step - loss: 0.5857 - acc: 0.8589 - val_loss: 0.5244 - val_acc: 0.8750\n",
            "Epoch 4/20\n",
            "60000/60000 [==============================] - 1s 24us/step - loss: 0.5246 - acc: 0.8683 - val_loss: 0.4790 - val_acc: 0.8825\n",
            "Epoch 5/20\n",
            "60000/60000 [==============================] - 1s 21us/step - loss: 0.4873 - acc: 0.8753 - val_loss: 0.4493 - val_acc: 0.8864\n",
            "Epoch 6/20\n",
            "60000/60000 [==============================] - 1s 21us/step - loss: 0.4617 - acc: 0.8798 - val_loss: 0.4282 - val_acc: 0.8892\n",
            "Epoch 7/20\n",
            "60000/60000 [==============================] - 1s 21us/step - loss: 0.4427 - acc: 0.8832 - val_loss: 0.4120 - val_acc: 0.8925\n",
            "Epoch 8/20\n",
            "60000/60000 [==============================] - 1s 21us/step - loss: 0.4279 - acc: 0.8863 - val_loss: 0.3995 - val_acc: 0.8948\n",
            "Epoch 9/20\n",
            "60000/60000 [==============================] - 1s 21us/step - loss: 0.4158 - acc: 0.8890 - val_loss: 0.3891 - val_acc: 0.8977\n",
            "Epoch 10/20\n",
            "60000/60000 [==============================] - 1s 21us/step - loss: 0.4059 - acc: 0.8915 - val_loss: 0.3803 - val_acc: 0.8996\n",
            "Epoch 11/20\n",
            "60000/60000 [==============================] - 1s 21us/step - loss: 0.3974 - acc: 0.8929 - val_loss: 0.3731 - val_acc: 0.9014\n",
            "Epoch 12/20\n",
            "60000/60000 [==============================] - 1s 21us/step - loss: 0.3902 - acc: 0.8944 - val_loss: 0.3667 - val_acc: 0.9024\n",
            "Epoch 13/20\n",
            "60000/60000 [==============================] - 1s 23us/step - loss: 0.3838 - acc: 0.8956 - val_loss: 0.3609 - val_acc: 0.9036\n",
            "Epoch 14/20\n",
            "60000/60000 [==============================] - 1s 22us/step - loss: 0.3782 - acc: 0.8971 - val_loss: 0.3566 - val_acc: 0.9046\n",
            "Epoch 15/20\n",
            "60000/60000 [==============================] - 1s 21us/step - loss: 0.3732 - acc: 0.8982 - val_loss: 0.3517 - val_acc: 0.9056\n",
            "Epoch 16/20\n",
            "60000/60000 [==============================] - 1s 21us/step - loss: 0.3687 - acc: 0.8989 - val_loss: 0.3481 - val_acc: 0.9058\n",
            "Epoch 17/20\n",
            "60000/60000 [==============================] - 1s 21us/step - loss: 0.3646 - acc: 0.8998 - val_loss: 0.3444 - val_acc: 0.9063\n",
            "Epoch 18/20\n",
            "60000/60000 [==============================] - 1s 21us/step - loss: 0.3609 - acc: 0.9005 - val_loss: 0.3411 - val_acc: 0.9074\n",
            "Epoch 19/20\n",
            "60000/60000 [==============================] - 1s 21us/step - loss: 0.3574 - acc: 0.9014 - val_loss: 0.3382 - val_acc: 0.9081\n",
            "Epoch 20/20\n",
            "60000/60000 [==============================] - 1s 21us/step - loss: 0.3543 - acc: 0.9019 - val_loss: 0.3355 - val_acc: 0.9084\n"
          ],
          "name": "stdout"
        }
      ]
    },
    {
      "cell_type": "code",
      "metadata": {
        "id": "CNQCBlvCXbmZ",
        "colab_type": "code",
        "outputId": "2884d171-f9c6-4583-9335-dd8b5840f64d",
        "colab": {
          "base_uri": "https://localhost:8080/",
          "height": 34
        }
      },
      "source": [
        "print( history.history.keys() )\n",
        "\n",
        "# we will get val_loss and val_acc only when you pass the paramter validation_data\n",
        "\n",
        "# val_loss : validation loss\n",
        "# val_acc : validation accuracy\n",
        "# loss : training loss\n",
        "# acc : train accuracy"
      ],
      "execution_count": 0,
      "outputs": [
        {
          "output_type": "stream",
          "text": [
            "dict_keys(['val_loss', 'val_acc', 'loss', 'acc'])\n"
          ],
          "name": "stdout"
        }
      ]
    },
    {
      "cell_type": "code",
      "metadata": {
        "id": "c3cCHmcNTqZg",
        "colab_type": "code",
        "outputId": "e7cb3495-9e92-40d3-8fe8-95e9bf893238",
        "colab": {
          "base_uri": "https://localhost:8080/",
          "height": 354
        }
      },
      "source": [
        "score = model.evaluate( xte, yte, verbose = 0 )\n",
        "# Returns the loss value & metrics values for the model in test mode. Computation is done in batches.\n",
        "# evaluate(x=None, y=None, batch_size=None, verbose=1, sample_weight=None, steps=None, callbacks=None)\n",
        "\n",
        "print(' Test loss : ', score[0] * 100, ' %   Test accuracy : ', score[1] * 100, ' %')\n",
        "\n",
        "fig, ax = plt.subplots(1,1, figsize=(16,5) )\n",
        "ax.set_xlabel('epoch')\n",
        "ax.set_ylabel('Categorical Crossentropy Loss')\n",
        "\n",
        "# list of epoch numbers\n",
        "x = list( range( 1, epoch+1 ) )\n",
        "\n",
        "\n",
        "# for each key in histrory.histrory we will have a list of length equal to number of epochs\n",
        "\n",
        "vl = history.history['val_loss']\n",
        "trl = history.history['loss']\n",
        "\n",
        "plot(x, vl, trl, ax)\n",
        "# plot( x, vl, trl, ax )"
      ],
      "execution_count": 0,
      "outputs": [
        {
          "output_type": "stream",
          "text": [
            " Test loss :  33.54585014998913  %   Test accuracy :  90.84  %\n"
          ],
          "name": "stdout"
        },
        {
          "output_type": "display_data",
          "data": {
            "image/png": "[encoded data removed]",
            "text/plain": [
              "<Figure size 1152x360 with 1 Axes>"
            ]
          },
          "metadata": {
            "tags": []
          }
        }
      ]
    },
    {
      "cell_type": "code",
      "metadata": {
        "id": "RFXgltQLYlqv",
        "colab_type": "code",
        "colab": {}
      },
      "source": [
        ""
      ],
      "execution_count": 0,
      "outputs": []
    },
    {
      "cell_type": "markdown",
      "metadata": {
        "id": "v_rBq5GpZKZq",
        "colab_type": "text"
      },
      "source": [
        "## MLP with Sigmoid Activation and SGD optimizer"
      ]
    },
    {
      "cell_type": "code",
      "metadata": {
        "id": "TTZ97KxNZEKC",
        "colab_type": "code",
        "outputId": "b6d13737-57e3-499d-e828-fb89f5001722",
        "colab": {
          "base_uri": "https://localhost:8080/",
          "height": 246
        }
      },
      "source": [
        "modelSig = Sequential()\n",
        "\n",
        "modelSig.add( Dense( 512, activation='sigmoid', input_shape = (ip,) ))  # simple 'ip' is giving error\n",
        "modelSig.add( Dense( 128, activation='sigmoid' ))\n",
        "modelSig.add( Dense( op, activation='softmax' ))\n",
        "\n",
        "# hidden1 = 512  1st layer number of neurons\n",
        "# hidden2 = 128  2nd layer number of neurons\n",
        "\n",
        "modelSig.summary()\n",
        "\n",
        "# 512, 128, op are units: Positive integer, dimensionality of the output space."
      ],
      "execution_count": 0,
      "outputs": [
        {
          "output_type": "stream",
          "text": [
            "_________________________________________________________________\n",
            "Layer (type)                 Output Shape              Param #   \n",
            "=================================================================\n",
            "dense_2 (Dense)              (None, 512)               401920    \n",
            "_________________________________________________________________\n",
            "dense_3 (Dense)              (None, 128)               65664     \n",
            "_________________________________________________________________\n",
            "dense_4 (Dense)              (None, 10)                1290      \n",
            "=================================================================\n",
            "Total params: 468,874\n",
            "Trainable params: 468,874\n",
            "Non-trainable params: 0\n",
            "_________________________________________________________________\n"
          ],
          "name": "stdout"
        }
      ]
    },
    {
      "cell_type": "code",
      "metadata": {
        "id": "NGUpXVE5akHz",
        "colab_type": "code",
        "outputId": "f1120b9a-ec0d-4bc8-e557-e390abdfdb0b",
        "colab": {
          "base_uri": "https://localhost:8080/",
          "height": 738
        }
      },
      "source": [
        "modelSig.compile( optimizer = 'sgd', loss = 'categorical_crossentropy', metrics = ['accuracy'] )\n",
        "\n",
        "history = modelSig.fit( xtr, ytr, batch, epoch, verbose=1, validation_data = (xte, yte) )"
      ],
      "execution_count": 0,
      "outputs": [
        {
          "output_type": "stream",
          "text": [
            "Train on 60000 samples, validate on 10000 samples\n",
            "Epoch 1/20\n",
            "60000/60000 [==============================] - 2s 27us/step - loss: 2.2588 - acc: 0.2500 - val_loss: 2.2115 - val_acc: 0.3047\n",
            "Epoch 2/20\n",
            "60000/60000 [==============================] - 1s 25us/step - loss: 2.1639 - acc: 0.4571 - val_loss: 2.1032 - val_acc: 0.5351\n",
            "Epoch 3/20\n",
            "60000/60000 [==============================] - 1s 25us/step - loss: 2.0381 - acc: 0.5722 - val_loss: 1.9497 - val_acc: 0.6490\n",
            "Epoch 4/20\n",
            "60000/60000 [==============================] - 2s 25us/step - loss: 1.8610 - acc: 0.6394 - val_loss: 1.7436 - val_acc: 0.6469\n",
            "Epoch 5/20\n",
            "60000/60000 [==============================] - 1s 25us/step - loss: 1.6400 - acc: 0.6860 - val_loss: 1.5073 - val_acc: 0.7005\n",
            "Epoch 6/20\n",
            "60000/60000 [==============================] - 1s 25us/step - loss: 1.4109 - acc: 0.7272 - val_loss: 1.2859 - val_acc: 0.7501\n",
            "Epoch 7/20\n",
            "60000/60000 [==============================] - 1s 25us/step - loss: 1.2098 - acc: 0.7589 - val_loss: 1.1032 - val_acc: 0.7844\n",
            "Epoch 8/20\n",
            "60000/60000 [==============================] - 1s 25us/step - loss: 1.0492 - acc: 0.7840 - val_loss: 0.9627 - val_acc: 0.8037\n",
            "Epoch 9/20\n",
            "60000/60000 [==============================] - 1s 25us/step - loss: 0.9254 - acc: 0.8009 - val_loss: 0.8549 - val_acc: 0.8190\n",
            "Epoch 10/20\n",
            "60000/60000 [==============================] - 1s 25us/step - loss: 0.8305 - acc: 0.8159 - val_loss: 0.7719 - val_acc: 0.8299\n",
            "Epoch 11/20\n",
            "60000/60000 [==============================] - 1s 25us/step - loss: 0.7568 - acc: 0.8275 - val_loss: 0.7083 - val_acc: 0.8368\n",
            "Epoch 12/20\n",
            "60000/60000 [==============================] - 1s 25us/step - loss: 0.6988 - acc: 0.8352 - val_loss: 0.6559 - val_acc: 0.8463\n",
            "Epoch 13/20\n",
            "60000/60000 [==============================] - 1s 25us/step - loss: 0.6520 - acc: 0.8429 - val_loss: 0.6136 - val_acc: 0.8523\n",
            "Epoch 14/20\n",
            "60000/60000 [==============================] - 1s 25us/step - loss: 0.6139 - acc: 0.8487 - val_loss: 0.5791 - val_acc: 0.8570\n",
            "Epoch 15/20\n",
            "60000/60000 [==============================] - 1s 25us/step - loss: 0.5823 - acc: 0.8541 - val_loss: 0.5507 - val_acc: 0.8625\n",
            "Epoch 16/20\n",
            "60000/60000 [==============================] - 1s 25us/step - loss: 0.5556 - acc: 0.8582 - val_loss: 0.5264 - val_acc: 0.8657\n",
            "Epoch 17/20\n",
            "60000/60000 [==============================] - 1s 25us/step - loss: 0.5330 - acc: 0.8620 - val_loss: 0.5052 - val_acc: 0.8692\n",
            "Epoch 18/20\n",
            "60000/60000 [==============================] - 2s 25us/step - loss: 0.5135 - acc: 0.8657 - val_loss: 0.4875 - val_acc: 0.8730\n",
            "Epoch 19/20\n",
            "60000/60000 [==============================] - 1s 25us/step - loss: 0.4965 - acc: 0.8689 - val_loss: 0.4713 - val_acc: 0.8764\n",
            "Epoch 20/20\n",
            "60000/60000 [==============================] - 2s 25us/step - loss: 0.4816 - acc: 0.8718 - val_loss: 0.4583 - val_acc: 0.8778\n"
          ],
          "name": "stdout"
        }
      ]
    },
    {
      "cell_type": "code",
      "metadata": {
        "id": "VKMFM2AVarL6",
        "colab_type": "code",
        "outputId": "2be4e79b-3263-47bb-8433-b70ec253101e",
        "colab": {
          "base_uri": "https://localhost:8080/",
          "height": 354
        }
      },
      "source": [
        "score = modelSig.evaluate( xte, yte, verbose = 0 )\n",
        "# Returns the loss value & metrics values for the model in test mode. Computation is done in batches.\n",
        "# evaluate(x=None, y=None, batch_size=None, verbose=1, sample_weight=None, steps=None, callbacks=None)\n",
        "\n",
        "print(' Test loss : ', score[0] * 100, ' %   Test accuracy : ', score[1] * 100, ' %')\n",
        "\n",
        "fig, ax = plt.subplots(1,1, figsize=(16,5) )\n",
        "ax.set_xlabel('epoch')\n",
        "ax.set_ylabel('Categorical Crossentropy Loss')\n",
        "\n",
        "# list of epoch numbers\n",
        "x = list( range( 1, epoch+1 ) )\n",
        "\n",
        "\n",
        "# for each key in histrory.histrory we will have a list of length equal to number of epochs\n",
        "\n",
        "vl = history.history['val_loss']\n",
        "trl = history.history['loss']\n",
        "\n",
        "plot(x, vl, trl, ax)\n",
        "# plot( x, vl, trl, ax )"
      ],
      "execution_count": 0,
      "outputs": [
        {
          "output_type": "stream",
          "text": [
            " Test loss :  45.83274377584458  %   Test accuracy :  87.78  %\n"
          ],
          "name": "stdout"
        },
        {
          "output_type": "display_data",
          "data": {
            "image/png": "[encoded data removed]",
            "text/plain": [
              "<Figure size 1152x360 with 1 Axes>"
            ]
          },
          "metadata": {
            "tags": []
          }
        }
      ]
    },
    {
      "cell_type": "code",
      "metadata": {
        "id": "vfeylKNwcIYq",
        "colab_type": "code",
        "colab": {}
      },
      "source": [
        ""
      ],
      "execution_count": 0,
      "outputs": []
    },
    {
      "cell_type": "markdown",
      "metadata": {
        "id": "pWC_gIOJdKVn",
        "colab_type": "text"
      },
      "source": [
        "## MLP with Sigmoid Activation and ADAM optimizer"
      ]
    },
    {
      "cell_type": "code",
      "metadata": {
        "id": "xbatWzWmdL3H",
        "colab_type": "code",
        "outputId": "7c3684de-27c9-4eb7-b276-4b2ae7478ca9",
        "colab": {
          "base_uri": "https://localhost:8080/",
          "height": 246
        }
      },
      "source": [
        "modelSig = Sequential()\n",
        "\n",
        "modelSig.add( Dense( 512, activation='sigmoid', input_shape = (ip,) ))  # simple 'ip' is giving error\n",
        "modelSig.add( Dense( 128, activation='sigmoid' ))\n",
        "modelSig.add( Dense( op, activation='softmax' ))\n",
        "\n",
        "# hidden1 = 512  1st layer number of neurons\n",
        "# hidden2 = 128  2nd layer number of neurons\n",
        "\n",
        "modelSig.summary()\n",
        "\n",
        "# 512, 128, op are units: Positive integer, dimensionality of the output space."
      ],
      "execution_count": 0,
      "outputs": [
        {
          "output_type": "stream",
          "text": [
            "_________________________________________________________________\n",
            "Layer (type)                 Output Shape              Param #   \n",
            "=================================================================\n",
            "dense_5 (Dense)              (None, 512)               401920    \n",
            "_________________________________________________________________\n",
            "dense_6 (Dense)              (None, 128)               65664     \n",
            "_________________________________________________________________\n",
            "dense_7 (Dense)              (None, 10)                1290      \n",
            "=================================================================\n",
            "Total params: 468,874\n",
            "Trainable params: 468,874\n",
            "Non-trainable params: 0\n",
            "_________________________________________________________________\n"
          ],
          "name": "stdout"
        }
      ]
    },
    {
      "cell_type": "code",
      "metadata": {
        "id": "RJQ6QyVXdQ6f",
        "colab_type": "code",
        "outputId": "3a097f4f-e5b0-4144-efcc-55f92a67ef61",
        "colab": {
          "base_uri": "https://localhost:8080/",
          "height": 738
        }
      },
      "source": [
        "modelSig.compile( optimizer = 'adam', loss = 'categorical_crossentropy', metrics = ['accuracy'] )\n",
        "\n",
        "history = modelSig.fit( xtr, ytr, batch, epoch, verbose=1, validation_data = (xte, yte) )"
      ],
      "execution_count": 0,
      "outputs": [
        {
          "output_type": "stream",
          "text": [
            "Train on 60000 samples, validate on 10000 samples\n",
            "Epoch 1/20\n",
            "60000/60000 [==============================] - 2s 33us/step - loss: 0.5304 - acc: 0.8643 - val_loss: 0.2584 - val_acc: 0.9234\n",
            "Epoch 2/20\n",
            "60000/60000 [==============================] - 2s 29us/step - loss: 0.2207 - acc: 0.9348 - val_loss: 0.1895 - val_acc: 0.9456\n",
            "Epoch 3/20\n",
            "60000/60000 [==============================] - 2s 29us/step - loss: 0.1636 - acc: 0.9518 - val_loss: 0.1428 - val_acc: 0.9555\n",
            "Epoch 4/20\n",
            "60000/60000 [==============================] - 2s 29us/step - loss: 0.1250 - acc: 0.9628 - val_loss: 0.1276 - val_acc: 0.9614\n",
            "Epoch 5/20\n",
            "60000/60000 [==============================] - 2s 31us/step - loss: 0.0975 - acc: 0.9712 - val_loss: 0.1089 - val_acc: 0.9670\n",
            "Epoch 6/20\n",
            "60000/60000 [==============================] - 2s 33us/step - loss: 0.0787 - acc: 0.9763 - val_loss: 0.0847 - val_acc: 0.9721\n",
            "Epoch 7/20\n",
            "60000/60000 [==============================] - 2s 33us/step - loss: 0.0634 - acc: 0.9809 - val_loss: 0.0830 - val_acc: 0.9729\n",
            "Epoch 8/20\n",
            "60000/60000 [==============================] - 2s 33us/step - loss: 0.0517 - acc: 0.9847 - val_loss: 0.0744 - val_acc: 0.9763\n",
            "Epoch 9/20\n",
            "60000/60000 [==============================] - 2s 33us/step - loss: 0.0419 - acc: 0.9880 - val_loss: 0.0736 - val_acc: 0.9775\n",
            "Epoch 10/20\n",
            "60000/60000 [==============================] - 2s 31us/step - loss: 0.0345 - acc: 0.9901 - val_loss: 0.0678 - val_acc: 0.9798\n",
            "Epoch 11/20\n",
            "60000/60000 [==============================] - 2s 29us/step - loss: 0.0275 - acc: 0.9927 - val_loss: 0.0661 - val_acc: 0.9799\n",
            "Epoch 12/20\n",
            "60000/60000 [==============================] - 2s 29us/step - loss: 0.0216 - acc: 0.9944 - val_loss: 0.0709 - val_acc: 0.9786\n",
            "Epoch 13/20\n",
            "60000/60000 [==============================] - 2s 29us/step - loss: 0.0180 - acc: 0.9952 - val_loss: 0.0673 - val_acc: 0.9792\n",
            "Epoch 14/20\n",
            "60000/60000 [==============================] - 2s 29us/step - loss: 0.0138 - acc: 0.9968 - val_loss: 0.0756 - val_acc: 0.9774\n",
            "Epoch 15/20\n",
            "60000/60000 [==============================] - 2s 29us/step - loss: 0.0113 - acc: 0.9975 - val_loss: 0.0677 - val_acc: 0.9795\n",
            "Epoch 16/20\n",
            "60000/60000 [==============================] - 2s 29us/step - loss: 0.0088 - acc: 0.9983 - val_loss: 0.0639 - val_acc: 0.9811\n",
            "Epoch 17/20\n",
            "60000/60000 [==============================] - 2s 29us/step - loss: 0.0070 - acc: 0.9984 - val_loss: 0.0699 - val_acc: 0.9804\n",
            "Epoch 18/20\n",
            "60000/60000 [==============================] - 2s 30us/step - loss: 0.0057 - acc: 0.9988 - val_loss: 0.0742 - val_acc: 0.9795\n",
            "Epoch 19/20\n",
            "60000/60000 [==============================] - 2s 29us/step - loss: 0.0039 - acc: 0.9994 - val_loss: 0.0726 - val_acc: 0.9799\n",
            "Epoch 20/20\n",
            "60000/60000 [==============================] - 2s 29us/step - loss: 0.0035 - acc: 0.9993 - val_loss: 0.0833 - val_acc: 0.9796\n"
          ],
          "name": "stdout"
        }
      ]
    },
    {
      "cell_type": "code",
      "metadata": {
        "id": "fdvdHKZZdcNC",
        "colab_type": "code",
        "outputId": "20e555bd-e598-4332-d3a2-bb319ae8430e",
        "colab": {
          "base_uri": "https://localhost:8080/",
          "height": 354
        }
      },
      "source": [
        "score = modelSig.evaluate( xte, yte, verbose = 0 )\n",
        "# Returns the loss value & metrics values for the model in test mode. Computation is done in batches.\n",
        "# evaluate(x=None, y=None, batch_size=None, verbose=1, sample_weight=None, steps=None, callbacks=None)\n",
        "\n",
        "print(' Test loss : ', score[0] * 100, ' %   Test accuracy : ', score[1] * 100, ' %')\n",
        "\n",
        "fig, ax = plt.subplots(1,1, figsize=(16,5) )\n",
        "ax.set_xlabel('epoch')\n",
        "ax.set_ylabel('Categorical Crossentropy Loss')\n",
        "\n",
        "# list of epoch numbers\n",
        "x = list( range( 1, epoch+1 ) )\n",
        "\n",
        "\n",
        "# for each key in histrory.histrory we will have a list of length equal to number of epochs\n",
        "\n",
        "vl = history.history['val_loss']\n",
        "trl = history.history['loss']\n",
        "\n",
        "plot(x, vl, trl, ax)\n",
        "# plot( x, vl, trl, ax )"
      ],
      "execution_count": 0,
      "outputs": [
        {
          "output_type": "stream",
          "text": [
            " Test loss :  8.329563540434174  %   Test accuracy :  97.96000000000001  %\n"
          ],
          "name": "stdout"
        },
        {
          "output_type": "display_data",
          "data": {
            "image/png": "[encoded data removed]",
            "text/plain": [
              "<Figure size 1152x360 with 1 Axes>"
            ]
          },
          "metadata": {
            "tags": []
          }
        }
      ]
    },
    {
      "cell_type": "code",
      "metadata": {
        "id": "GirmDOO6eU3c",
        "colab_type": "code",
        "colab": {}
      },
      "source": [
        ""
      ],
      "execution_count": 0,
      "outputs": []
    },
    {
      "cell_type": "markdown",
      "metadata": {
        "id": "mCAL4r0XesVJ",
        "colab_type": "text"
      },
      "source": [
        "## MLP with Sigmoid Activation ,Batch Normalization and ADAM optimizer\n",
        "\n",
        "\n"
      ]
    },
    {
      "cell_type": "code",
      "metadata": {
        "id": "HnNSUzaTes5-",
        "colab_type": "code",
        "outputId": "7d50b3ad-da00-4342-f569-ddcbe6373b83",
        "colab": {
          "base_uri": "https://localhost:8080/",
          "height": 316
        }
      },
      "source": [
        "from keras.layers.normalization import BatchNormalization\n",
        "from keras.initializers import RandomNormal\n",
        "\n",
        "\n",
        "# If we sample weights from a normal distribution N(0,σ) we satisfy this condition with σ = √ ( 2 / ( ni + ni + 1 ) ) \n",
        "# h1 =>  σ = √ ( 2 / ( fan_in + fan_out + 1) ) = 0.039  => N(0,σ) = N(0,0.039)\n",
        "# h2 =>  σ = √ ( 2 / ( fan_in + fan_out + 1) ) = 0.055  => N(0,σ) = N(0,0.055)\n",
        "# out =>  σ = √ ( 2 / ( fan_in + fan_out + 1) ) = 0.120  => N(0,σ) = N(0,0.120)\n",
        "\n",
        "# for h1 : input = 784 , hidden1 = 512  => fan_in = 784, fan_out = 512  =>  σ = √ ( 2 / ( 784 + 512 + 1) ) \n",
        "# => σ = √ ( 2 / ( 1297 ) )   => σ = √ ( 0.00154 )   => 0.3924  Similary we can Calc for 'h2' and 'out' \n",
        "\n",
        "\n",
        "modelB = Sequential()\n",
        "\n",
        "modelB.add( Dense( 512, activation='sigmoid', input_shape=(ip,), kernel_initializer = RandomNormal(mean=0.0, stddev=0.039, seed=None) ))\n",
        "modelB.add( BatchNormalization() )\n",
        "\n",
        "modelB.add( Dense( 128, activation='sigmoid', kernel_initializer = RandomNormal(mean=0.0, stddev=0.55, seed=None) ))\n",
        "modelB.add( BatchNormalization() )\n",
        "\n",
        "modelB.add( Dense(op, activation = 'softmax') )\n",
        "\n",
        "modelB.summary()\n",
        "\n",
        "# RandomNormal() : Initializer that generates tensors with a normal distribution.\n",
        "\n",
        "# Ref : # https://intoli.com/blog/neural-network-initialization/ "
      ],
      "execution_count": 0,
      "outputs": [
        {
          "output_type": "stream",
          "text": [
            "_________________________________________________________________\n",
            "Layer (type)                 Output Shape              Param #   \n",
            "=================================================================\n",
            "dense_2 (Dense)              (None, 512)               401920    \n",
            "_________________________________________________________________\n",
            "batch_normalization_1 (Batch (None, 512)               2048      \n",
            "_________________________________________________________________\n",
            "dense_3 (Dense)              (None, 128)               65664     \n",
            "_________________________________________________________________\n",
            "batch_normalization_2 (Batch (None, 128)               512       \n",
            "_________________________________________________________________\n",
            "dense_4 (Dense)              (None, 10)                1290      \n",
            "=================================================================\n",
            "Total params: 471,434\n",
            "Trainable params: 470,154\n",
            "Non-trainable params: 1,280\n",
            "_________________________________________________________________\n"
          ],
          "name": "stdout"
        }
      ]
    },
    {
      "cell_type": "code",
      "metadata": {
        "id": "m1-Y68nog5oB",
        "colab_type": "code",
        "outputId": "03aed347-b4fd-4e67-c448-cf64c0d4aab4",
        "colab": {
          "base_uri": "https://localhost:8080/",
          "height": 811
        }
      },
      "source": [
        "modelB.compile( optimizer = 'adam', loss = 'categorical_crossentropy', metrics = ['accuracy'] )\n",
        "\n",
        "history = modelB.fit( xtr, ytr, batch, epoch, verbose=1, validation_data = (xte, yte) )"
      ],
      "execution_count": 0,
      "outputs": [
        {
          "output_type": "stream",
          "text": [
            "WARNING:tensorflow:From /usr/local/lib/python3.6/dist-packages/tensorflow/python/ops/math_ops.py:3066: to_int32 (from tensorflow.python.ops.math_ops) is deprecated and will be removed in a future version.\n",
            "Instructions for updating:\n",
            "Use tf.cast instead.\n",
            "Train on 60000 samples, validate on 10000 samples\n",
            "Epoch 1/20\n",
            "60000/60000 [==============================] - 6s 108us/step - loss: 0.3070 - acc: 0.9092 - val_loss: 0.2182 - val_acc: 0.9410\n",
            "Epoch 2/20\n",
            "60000/60000 [==============================] - 3s 57us/step - loss: 0.1754 - acc: 0.9493 - val_loss: 0.1654 - val_acc: 0.9510\n",
            "Epoch 3/20\n",
            "60000/60000 [==============================] - 3s 57us/step - loss: 0.1399 - acc: 0.9585 - val_loss: 0.1460 - val_acc: 0.9559\n",
            "Epoch 4/20\n",
            "60000/60000 [==============================] - 3s 51us/step - loss: 0.1125 - acc: 0.9668 - val_loss: 0.1346 - val_acc: 0.9606\n",
            "Epoch 5/20\n",
            "60000/60000 [==============================] - 3s 52us/step - loss: 0.0952 - acc: 0.9715 - val_loss: 0.1281 - val_acc: 0.9597\n",
            "Epoch 6/20\n",
            "60000/60000 [==============================] - 3s 51us/step - loss: 0.0818 - acc: 0.9753 - val_loss: 0.1138 - val_acc: 0.9657\n",
            "Epoch 7/20\n",
            "60000/60000 [==============================] - 3s 52us/step - loss: 0.0704 - acc: 0.9784 - val_loss: 0.1144 - val_acc: 0.9665\n",
            "Epoch 8/20\n",
            "60000/60000 [==============================] - 3s 53us/step - loss: 0.0589 - acc: 0.9817 - val_loss: 0.1081 - val_acc: 0.9663\n",
            "Epoch 9/20\n",
            "60000/60000 [==============================] - 3s 52us/step - loss: 0.0502 - acc: 0.9846 - val_loss: 0.1023 - val_acc: 0.9675\n",
            "Epoch 10/20\n",
            "60000/60000 [==============================] - 3s 51us/step - loss: 0.0436 - acc: 0.9858 - val_loss: 0.1025 - val_acc: 0.9682\n",
            "Epoch 11/20\n",
            "60000/60000 [==============================] - 3s 51us/step - loss: 0.0414 - acc: 0.9871 - val_loss: 0.0959 - val_acc: 0.9713\n",
            "Epoch 12/20\n",
            "60000/60000 [==============================] - 3s 51us/step - loss: 0.0351 - acc: 0.9889 - val_loss: 0.1023 - val_acc: 0.9699\n",
            "Epoch 13/20\n",
            "60000/60000 [==============================] - 3s 51us/step - loss: 0.0310 - acc: 0.9899 - val_loss: 0.1041 - val_acc: 0.9699\n",
            "Epoch 14/20\n",
            "60000/60000 [==============================] - 3s 51us/step - loss: 0.0271 - acc: 0.9912 - val_loss: 0.1101 - val_acc: 0.9660\n",
            "Epoch 15/20\n",
            "60000/60000 [==============================] - 3s 53us/step - loss: 0.0245 - acc: 0.9921 - val_loss: 0.1032 - val_acc: 0.9700\n",
            "Epoch 16/20\n",
            "60000/60000 [==============================] - 4s 59us/step - loss: 0.0240 - acc: 0.9918 - val_loss: 0.0993 - val_acc: 0.9715\n",
            "Epoch 17/20\n",
            "60000/60000 [==============================] - 3s 53us/step - loss: 0.0218 - acc: 0.9930 - val_loss: 0.1051 - val_acc: 0.9725\n",
            "Epoch 18/20\n",
            "60000/60000 [==============================] - 3s 51us/step - loss: 0.0179 - acc: 0.9942 - val_loss: 0.1005 - val_acc: 0.9726\n",
            "Epoch 19/20\n",
            "60000/60000 [==============================] - 3s 51us/step - loss: 0.0167 - acc: 0.9944 - val_loss: 0.1001 - val_acc: 0.9738\n",
            "Epoch 20/20\n",
            "60000/60000 [==============================] - 3s 51us/step - loss: 0.0148 - acc: 0.9954 - val_loss: 0.0937 - val_acc: 0.9735\n"
          ],
          "name": "stdout"
        }
      ]
    },
    {
      "cell_type": "code",
      "metadata": {
        "id": "ZiDCedjj88C6",
        "colab_type": "code",
        "outputId": "2af4fd6d-f782-4049-f938-c2269d2a0288",
        "colab": {
          "base_uri": "https://localhost:8080/",
          "height": 354
        }
      },
      "source": [
        "score = modelB.evaluate( xte, yte, verbose = 0 )\n",
        "# Returns the loss value & metrics values for the model in test mode. Computation is done in batches.\n",
        "# evaluate(x=None, y=None, batch_size=None, verbose=1, sample_weight=None, steps=None, callbacks=None)\n",
        "\n",
        "print(' Test loss : ', score[0] * 100, ' %   Test accuracy : ', score[1] * 100, ' %')\n",
        "\n",
        "fig, ax = plt.subplots(1,1, figsize=(16,5) )\n",
        "ax.set_xlabel('epoch')\n",
        "ax.set_ylabel('Categorical Crossentropy Loss')\n",
        "\n",
        "# list of epoch numbers\n",
        "x = list( range( 1, epoch+1 ) )\n",
        "\n",
        "\n",
        "# for each key in histrory.histrory we will have a list of length equal to number of epochs\n",
        "\n",
        "vl = history.history['val_loss']\n",
        "trl = history.history['loss']\n",
        "\n",
        "plot(x, vl, trl, ax)\n",
        "# plot( x, vl, trl, ax )"
      ],
      "execution_count": 0,
      "outputs": [
        {
          "output_type": "stream",
          "text": [
            " Test loss :  9.374206905001484  %   Test accuracy :  97.35000000000001  %\n"
          ],
          "name": "stdout"
        },
        {
          "output_type": "display_data",
          "data": {
            "image/png": "[encoded data removed]",
            "text/plain": [
              "<Figure size 1152x360 with 1 Axes>"
            ]
          },
          "metadata": {
            "tags": []
          }
        }
      ]
    },
    {
      "cell_type": "code",
      "metadata": {
        "id": "NFOCeDt-9YGt",
        "colab_type": "code",
        "colab": {}
      },
      "source": [
        ""
      ],
      "execution_count": 0,
      "outputs": []
    },
    {
      "cell_type": "markdown",
      "metadata": {
        "id": "dVZ-zHgV9wR3",
        "colab_type": "text"
      },
      "source": [
        "## MLP with Sigmoid Activation ,Dropout and ADAM optimizer\n",
        "\n",
        "\n"
      ]
    },
    {
      "cell_type": "code",
      "metadata": {
        "id": "Sv65rvel9vC4",
        "colab_type": "code",
        "outputId": "b8d6dfb9-c17b-450a-aa20-2277dc7338de",
        "colab": {
          "base_uri": "https://localhost:8080/",
          "height": 459
        }
      },
      "source": [
        "from keras.layers import Dropout\n",
        "from keras.layers.normalization import BatchNormalization\n",
        "from keras.initializers import RandomNormal\n",
        "\n",
        "\n",
        "# If we sample weights from a normal distribution N(0,σ) we satisfy this condition with σ = √ ( 2 / ( ni + ni + 1 ) ) \n",
        "# h1 =>  σ = √ ( 2 / ( fan_in + fan_out + 1) ) = 0.039  => N(0,σ) = N(0,0.039)\n",
        "# h2 =>  σ = √ ( 2 / ( fan_in + fan_out + 1) ) = 0.055  => N(0,σ) = N(0,0.055)\n",
        "# out =>  σ = √ ( 2 / ( fan_in + fan_out + 1) ) = 0.120  => N(0,σ) = N(0,0.120)\n",
        "\n",
        "# for h1 : input = 784 , hidden1 = 512  => fan_in = 784, fan_out = 512  =>  σ = √ ( 2 / ( 784 + 512 + 1) ) \n",
        "# => σ = √ ( 2 / ( 1297 ) )   => σ = √ ( 0.00154 )   => 0.3924  Similary we can Calc for 'h2' and 'out' \n",
        "\n",
        "\n",
        "modelD = Sequential()\n",
        "\n",
        "modelD.add( Dense( 512, activation='sigmoid', input_shape=(ip,), kernel_initializer = RandomNormal(mean=0.0, stddev=0.039, seed=None) ))\n",
        "modelD.add( BatchNormalization() )\n",
        "modelD.add( Dropout(0.5) )\n",
        "\n",
        "modelD.add( Dense( 128, activation='sigmoid', kernel_initializer = RandomNormal(mean=0.0, stddev=0.55, seed=None) ))\n",
        "modelD.add( BatchNormalization() )\n",
        "modelD.add( Dropout(0.5) )\n",
        "\n",
        "modelD.add( Dense(op, activation = 'softmax') )\n",
        "\n",
        "modelD.summary()\n",
        "\n",
        "# RandomNormal() : Initializer that generates tensors with a normal distribution.\n",
        "\n",
        "# Ref : # https://intoli.com/blog/neural-network-initialization/ "
      ],
      "execution_count": 0,
      "outputs": [
        {
          "output_type": "stream",
          "text": [
            "WARNING:tensorflow:From /usr/local/lib/python3.6/dist-packages/keras/backend/tensorflow_backend.py:3445: calling dropout (from tensorflow.python.ops.nn_ops) with keep_prob is deprecated and will be removed in a future version.\n",
            "Instructions for updating:\n",
            "Please use `rate` instead of `keep_prob`. Rate should be set to `rate = 1 - keep_prob`.\n",
            "_________________________________________________________________\n",
            "Layer (type)                 Output Shape              Param #   \n",
            "=================================================================\n",
            "dense_5 (Dense)              (None, 512)               401920    \n",
            "_________________________________________________________________\n",
            "batch_normalization_3 (Batch (None, 512)               2048      \n",
            "_________________________________________________________________\n",
            "dropout_1 (Dropout)          (None, 512)               0         \n",
            "_________________________________________________________________\n",
            "dense_6 (Dense)              (None, 128)               65664     \n",
            "_________________________________________________________________\n",
            "batch_normalization_4 (Batch (None, 128)               512       \n",
            "_________________________________________________________________\n",
            "dropout_2 (Dropout)          (None, 128)               0         \n",
            "_________________________________________________________________\n",
            "dense_7 (Dense)              (None, 10)                1290      \n",
            "=================================================================\n",
            "Total params: 471,434\n",
            "Trainable params: 470,154\n",
            "Non-trainable params: 1,280\n",
            "_________________________________________________________________\n"
          ],
          "name": "stdout"
        }
      ]
    },
    {
      "cell_type": "code",
      "metadata": {
        "id": "OGi5m1Ky9vc1",
        "colab_type": "code",
        "outputId": "6f47952c-2634-4b5e-87a7-3c7f9f35d3b3",
        "colab": {
          "base_uri": "https://localhost:8080/",
          "height": 738
        }
      },
      "source": [
        "modelD.compile( optimizer = 'adam', loss = 'categorical_crossentropy', metrics = ['accuracy'] )\n",
        "\n",
        "history = modelD.fit( xtr, ytr, batch, epoch, verbose=1, validation_data = (xte, yte) )"
      ],
      "execution_count": 0,
      "outputs": [
        {
          "output_type": "stream",
          "text": [
            "Train on 60000 samples, validate on 10000 samples\n",
            "Epoch 1/20\n",
            "60000/60000 [==============================] - 4s 65us/step - loss: 0.6659 - acc: 0.7932 - val_loss: 0.2826 - val_acc: 0.9169\n",
            "Epoch 2/20\n",
            "60000/60000 [==============================] - 3s 54us/step - loss: 0.4271 - acc: 0.8702 - val_loss: 0.2559 - val_acc: 0.9251\n",
            "Epoch 3/20\n",
            "60000/60000 [==============================] - 3s 54us/step - loss: 0.3831 - acc: 0.8833 - val_loss: 0.2394 - val_acc: 0.9278\n",
            "Epoch 4/20\n",
            "60000/60000 [==============================] - 3s 54us/step - loss: 0.3584 - acc: 0.8925 - val_loss: 0.2220 - val_acc: 0.9343\n",
            "Epoch 5/20\n",
            "60000/60000 [==============================] - 3s 54us/step - loss: 0.3359 - acc: 0.8979 - val_loss: 0.2153 - val_acc: 0.9381\n",
            "Epoch 6/20\n",
            "60000/60000 [==============================] - 3s 54us/step - loss: 0.3183 - acc: 0.9039 - val_loss: 0.2062 - val_acc: 0.9383\n",
            "Epoch 7/20\n",
            "60000/60000 [==============================] - 4s 60us/step - loss: 0.3083 - acc: 0.9073 - val_loss: 0.1923 - val_acc: 0.9432\n",
            "Epoch 8/20\n",
            "60000/60000 [==============================] - 4s 59us/step - loss: 0.2927 - acc: 0.9121 - val_loss: 0.1837 - val_acc: 0.9479\n",
            "Epoch 9/20\n",
            "60000/60000 [==============================] - 3s 54us/step - loss: 0.2848 - acc: 0.9154 - val_loss: 0.1772 - val_acc: 0.9473\n",
            "Epoch 10/20\n",
            "60000/60000 [==============================] - 3s 54us/step - loss: 0.2687 - acc: 0.9187 - val_loss: 0.1676 - val_acc: 0.9504\n",
            "Epoch 11/20\n",
            "60000/60000 [==============================] - 3s 53us/step - loss: 0.2581 - acc: 0.9220 - val_loss: 0.1588 - val_acc: 0.9516\n",
            "Epoch 12/20\n",
            "60000/60000 [==============================] - 3s 54us/step - loss: 0.2463 - acc: 0.9259 - val_loss: 0.1512 - val_acc: 0.9552\n",
            "Epoch 13/20\n",
            "60000/60000 [==============================] - 3s 54us/step - loss: 0.2353 - acc: 0.9285 - val_loss: 0.1470 - val_acc: 0.9564\n",
            "Epoch 14/20\n",
            "60000/60000 [==============================] - 3s 54us/step - loss: 0.2255 - acc: 0.9326 - val_loss: 0.1366 - val_acc: 0.9594\n",
            "Epoch 15/20\n",
            "60000/60000 [==============================] - 3s 53us/step - loss: 0.2174 - acc: 0.9354 - val_loss: 0.1313 - val_acc: 0.9612\n",
            "Epoch 16/20\n",
            "60000/60000 [==============================] - 3s 54us/step - loss: 0.2070 - acc: 0.9381 - val_loss: 0.1258 - val_acc: 0.9625\n",
            "Epoch 17/20\n",
            "60000/60000 [==============================] - 3s 54us/step - loss: 0.1991 - acc: 0.9396 - val_loss: 0.1205 - val_acc: 0.9650\n",
            "Epoch 18/20\n",
            "60000/60000 [==============================] - 3s 55us/step - loss: 0.1872 - acc: 0.9433 - val_loss: 0.1170 - val_acc: 0.9649\n",
            "Epoch 19/20\n",
            "60000/60000 [==============================] - 3s 54us/step - loss: 0.1837 - acc: 0.9449 - val_loss: 0.1093 - val_acc: 0.9682\n",
            "Epoch 20/20\n",
            "60000/60000 [==============================] - 3s 54us/step - loss: 0.1741 - acc: 0.9470 - val_loss: 0.1104 - val_acc: 0.9675\n"
          ],
          "name": "stdout"
        }
      ]
    },
    {
      "cell_type": "code",
      "metadata": {
        "id": "1yeIaMhk9u_r",
        "colab_type": "code",
        "outputId": "02c57a7f-a0ef-43bd-8e0f-de902c287556",
        "colab": {
          "base_uri": "https://localhost:8080/",
          "height": 354
        }
      },
      "source": [
        "score = modelD.evaluate( xte, yte, verbose = 0 )\n",
        "# Returns the loss value & metrics values for the model in test mode. Computation is done in batches.\n",
        "# evaluate(x=None, y=None, batch_size=None, verbose=1, sample_weight=None, steps=None, callbacks=None)\n",
        "\n",
        "print(' Test loss : ', score[0] * 100, ' %   Test accuracy : ', score[1] * 100, ' %')\n",
        "\n",
        "fig, ax = plt.subplots(1,1, figsize=(16,5) )\n",
        "ax.set_xlabel('epoch')\n",
        "ax.set_ylabel('Categorical Crossentropy Loss')\n",
        "\n",
        "# list of epoch numbers\n",
        "x = list( range( 1, epoch+1 ) )\n",
        "\n",
        "\n",
        "# for each key in histrory.histrory we will have a list of length equal to number of epochs\n",
        "\n",
        "vl = history.history['val_loss']\n",
        "trl = history.history['loss']\n",
        "\n",
        "plot(x, vl, trl, ax)\n",
        "# plot( x, vl, trl, ax )"
      ],
      "execution_count": 0,
      "outputs": [
        {
          "output_type": "stream",
          "text": [
            " Test loss :  11.04182219164446  %   Test accuracy :  96.75  %\n"
          ],
          "name": "stdout"
        },
        {
          "output_type": "display_data",
          "data": {
            "image/png": "[encoded data removed]",
            "text/plain": [
              "<Figure size 1152x360 with 1 Axes>"
            ]
          },
          "metadata": {
            "tags": []
          }
        }
      ]
    },
    {
      "cell_type": "code",
      "metadata": {
        "id": "oTgfCP1Z9u9K",
        "colab_type": "code",
        "colab": {}
      },
      "source": [
        ""
      ],
      "execution_count": 0,
      "outputs": []
    },
    {
      "cell_type": "markdown",
      "metadata": {
        "id": "rLtnQZ37_MZp",
        "colab_type": "text"
      },
      "source": [
        "## Hyperparameter Tuning of Keras Models"
      ]
    },
    {
      "cell_type": "code",
      "metadata": {
        "id": "HN6iVeBl9u6j",
        "colab_type": "code",
        "colab": {}
      },
      "source": [
        "from keras.optimizers import Adam,RMSprop,SGD\n",
        "\n",
        "def tune( activ ):\n",
        "\n",
        "    model = Sequential()\n",
        "    model.add( Dense( 512, activation=activ, input_shape=(ip,), kernel_initializer=RandomNormal(mean=0.0, stddev=0.062, seed=None)))\n",
        "    model.add( Dense( 128, activation=activ, kernel_initializer=RandomNormal(mean=0.0, stddev=0.125, seed=None)) )\n",
        "    model.add( Dense( op, activation='softmax'))\n",
        "\n",
        "\n",
        "    model.compile(loss='categorical_crossentropy', metrics=['accuracy'], optimizer='adam')\n",
        "    \n",
        "    return model"
      ],
      "execution_count": 0,
      "outputs": []
    },
    {
      "cell_type": "code",
      "metadata": {
        "id": "R21a1jof_i84",
        "colab_type": "code",
        "outputId": "bcfe24af-a282-4f76-8a31-f61ac6c1e3da",
        "colab": {
          "base_uri": "https://localhost:8080/",
          "height": 72
        }
      },
      "source": [
        "\n",
        "activ = ['sigmoid', 'relu']\n",
        "\n",
        "from keras.wrappers.scikit_learn import KerasClassifier\n",
        "from sklearn.model_selection import GridSearchCV\n",
        "\n",
        "model = KerasClassifier( build_fn = tune, epochs = epoch, batch_size = batch, verbose=0)\n",
        "\n",
        "param = dict( activ = activ )\n",
        "\n",
        "# if you are using CPU\n",
        "# grid = GridSearchCV(estimator=model, param_grid=param_grid, n_jobs=-1)\n",
        "# if you are using GPU dont use the n_jobs parameter\n",
        "\n",
        "grid = GridSearchCV( estimator = model, param_grid = param )\n",
        "\n",
        "res = grid.fit(xtr, ytr)\n",
        "\n",
        "# Ref : https://machinelearningmastery.com/grid-search-hyperparameters-deep-learning-models-python-keras/\n"
      ],
      "execution_count": 0,
      "outputs": [
        {
          "output_type": "stream",
          "text": [
            "/usr/local/lib/python3.6/dist-packages/sklearn/model_selection/_split.py:2053: FutureWarning: You should specify a value for 'cv' instead of relying on the default value. The default value will change from 3 to 5 in version 0.22.\n",
            "  warnings.warn(CV_WARNING, FutureWarning)\n"
          ],
          "name": "stderr"
        }
      ]
    },
    {
      "cell_type": "code",
      "metadata": {
        "id": "YrhsT3a7_71A",
        "colab_type": "code",
        "colab": {}
      },
      "source": [
        "print(\"Best : \", res.best_score_,'  using : ', res.best_params_)\n",
        "\n",
        "means = res.cv_results_['mean_test_score']\n",
        "stds = res.cv_results_['std_test_score']\n",
        "\n",
        "params = res.cv_results_['params']\n",
        "\n",
        "for mean, stdev, param in zip(means, stds, params):\n",
        "    print(mean, stdev, \" with : \", param))"
      ],
      "execution_count": 0,
      "outputs": []
    }
  ]
}