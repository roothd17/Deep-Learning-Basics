{
  "nbformat": 4,
  "nbformat_minor": 0,
  "metadata": {
    "colab": {
      "name": "Intro Softmax Classifier MNIST",
      "version": "0.3.2",
      "provenance": [],
      "collapsed_sections": []
    },
    "kernelspec": {
      "name": "python3",
      "display_name": "Python 3"
    },
    "accelerator": "GPU"
  },
  "cells": [
    {
      "cell_type": "code",
      "metadata": {
        "id": "GfLM-HPtjCTx",
        "colab_type": "code",
        "outputId": "3b8bc691-b3ee-4dd3-d3ef-5385ffd1fb62",
        "colab": {
          "base_uri": "https://localhost:8080/",
          "height": 34
        }
      },
      "source": [
        "import tensorflow as tf\n",
        "print( tf.__version__ )\n",
        "\n",
        "# Hd17"
      ],
      "execution_count": 0,
      "outputs": [
        {
          "output_type": "stream",
          "text": [
            "1.13.1\n"
          ],
          "name": "stdout"
        }
      ]
    },
    {
      "cell_type": "code",
      "metadata": {
        "id": "bwRD2O2Yk7Nd",
        "colab_type": "code",
        "outputId": "8909c188-493a-4efc-a319-384d65bfd463",
        "colab": {
          "base_uri": "https://localhost:8080/",
          "height": 107
        }
      },
      "source": [
        "!pip install tensorflow-gpu # For Google Collab"
      ],
      "execution_count": 0,
      "outputs": [
        {
          "output_type": "stream",
          "text": [
            "Collecting tensorflow-gpu\n",
            "\u001b[?25l  Downloading https://files.pythonhosted.org/packages/7b/b1/0ad4ae02e17ddd62109cd54c291e311c4b5fd09b4d0678d3d6ce4159b0f0/tensorflow_gpu-1.13.1-cp36-cp36m-manylinux1_x86_64.whl (345.2MB)\n",
            "\u001b[K    25% |████████                        | 86.5MB 23.3MB/s eta 0:00:12\n",
            "\u001b[31mOperation cancelled by user\u001b[0m\n",
            "\u001b[?25h"
          ],
          "name": "stdout"
        }
      ]
    },
    {
      "cell_type": "code",
      "metadata": {
        "id": "5C6M1lHLkzJi",
        "colab_type": "code",
        "colab": {}
      },
      "source": [
        "from tensorflow.examples.tutorials.mnist import input_data"
      ],
      "execution_count": 0,
      "outputs": []
    },
    {
      "cell_type": "code",
      "metadata": {
        "id": "U_r2E9XEjRzt",
        "colab_type": "code",
        "outputId": "57bc4432-2fb0-4019-ed8f-fa1a7d539df3",
        "colab": {
          "base_uri": "https://localhost:8080/",
          "height": 547
        }
      },
      "source": [
        "mnist = input_data.read_data_sets(\"MNIST_data/\", one_hot=True)"
      ],
      "execution_count": 0,
      "outputs": [
        {
          "output_type": "stream",
          "text": [
            "WARNING:tensorflow:From <ipython-input-4-a839aeb82f4b>:1: read_data_sets (from tensorflow.contrib.learn.python.learn.datasets.mnist) is deprecated and will be removed in a future version.\n",
            "Instructions for updating:\n",
            "Please use alternatives such as official/mnist/dataset.py from tensorflow/models.\n",
            "WARNING:tensorflow:From /usr/local/lib/python3.6/dist-packages/tensorflow/contrib/learn/python/learn/datasets/mnist.py:260: maybe_download (from tensorflow.contrib.learn.python.learn.datasets.base) is deprecated and will be removed in a future version.\n",
            "Instructions for updating:\n",
            "Please write your own downloading logic.\n",
            "WARNING:tensorflow:From /usr/local/lib/python3.6/dist-packages/tensorflow/contrib/learn/python/learn/datasets/base.py:252: _internal_retry.<locals>.wrap.<locals>.wrapped_fn (from tensorflow.contrib.learn.python.learn.datasets.base) is deprecated and will be removed in a future version.\n",
            "Instructions for updating:\n",
            "Please use urllib or similar directly.\n",
            "Successfully downloaded train-images-idx3-ubyte.gz 9912422 bytes.\n",
            "WARNING:tensorflow:From /usr/local/lib/python3.6/dist-packages/tensorflow/contrib/learn/python/learn/datasets/mnist.py:262: extract_images (from tensorflow.contrib.learn.python.learn.datasets.mnist) is deprecated and will be removed in a future version.\n",
            "Instructions for updating:\n",
            "Please use tf.data to implement this functionality.\n",
            "Extracting MNIST_data/train-images-idx3-ubyte.gz\n",
            "Successfully downloaded train-labels-idx1-ubyte.gz 28881 bytes.\n",
            "WARNING:tensorflow:From /usr/local/lib/python3.6/dist-packages/tensorflow/contrib/learn/python/learn/datasets/mnist.py:267: extract_labels (from tensorflow.contrib.learn.python.learn.datasets.mnist) is deprecated and will be removed in a future version.\n",
            "Instructions for updating:\n",
            "Please use tf.data to implement this functionality.\n",
            "Extracting MNIST_data/train-labels-idx1-ubyte.gz\n",
            "WARNING:tensorflow:From /usr/local/lib/python3.6/dist-packages/tensorflow/contrib/learn/python/learn/datasets/mnist.py:110: dense_to_one_hot (from tensorflow.contrib.learn.python.learn.datasets.mnist) is deprecated and will be removed in a future version.\n",
            "Instructions for updating:\n",
            "Please use tf.one_hot on tensors.\n",
            "Successfully downloaded t10k-images-idx3-ubyte.gz 1648877 bytes.\n",
            "Extracting MNIST_data/t10k-images-idx3-ubyte.gz\n",
            "Successfully downloaded t10k-labels-idx1-ubyte.gz 4542 bytes.\n",
            "Extracting MNIST_data/t10k-labels-idx1-ubyte.gz\n",
            "WARNING:tensorflow:From /usr/local/lib/python3.6/dist-packages/tensorflow/contrib/learn/python/learn/datasets/mnist.py:290: DataSet.__init__ (from tensorflow.contrib.learn.python.learn.datasets.mnist) is deprecated and will be removed in a future version.\n",
            "Instructions for updating:\n",
            "Please use alternatives such as official/mnist/dataset.py from tensorflow/models.\n"
          ],
          "name": "stdout"
        }
      ]
    },
    {
      "cell_type": "code",
      "metadata": {
        "id": "72UqSHfkkjje",
        "colab_type": "code",
        "outputId": "7351c5ad-d23c-4b42-95b6-eba9ffd418bf",
        "colab": {
          "base_uri": "https://localhost:8080/",
          "height": 54
        }
      },
      "source": [
        "mnist"
      ],
      "execution_count": 0,
      "outputs": [
        {
          "output_type": "execute_result",
          "data": {
            "text/plain": [
              "Datasets(train=<tensorflow.contrib.learn.python.learn.datasets.mnist.DataSet object at 0x7f5401fb0e48>, validation=<tensorflow.contrib.learn.python.learn.datasets.mnist.DataSet object at 0x7f5401fb0ba8>, test=<tensorflow.contrib.learn.python.learn.datasets.mnist.DataSet object at 0x7f5401fb09b0>)"
            ]
          },
          "metadata": {
            "tags": []
          },
          "execution_count": 5
        }
      ]
    },
    {
      "cell_type": "code",
      "metadata": {
        "id": "5gu7_XUikqfR",
        "colab_type": "code",
        "outputId": "fc4e157a-2f9e-4c4c-f5fc-87d38365145e",
        "colab": {
          "base_uri": "https://localhost:8080/",
          "height": 34
        }
      },
      "source": [
        "print(\" Number of data points : \", mnist.train.images.shape[0],\"  Number of pixels in each image : \",mnist.train.images.shape[1])"
      ],
      "execution_count": 0,
      "outputs": [
        {
          "output_type": "stream",
          "text": [
            " Number of data points :  55000   Number of pixels in each image :  784\n"
          ],
          "name": "stdout"
        }
      ]
    },
    {
      "cell_type": "code",
      "metadata": {
        "id": "7YB5bbqalYiO",
        "colab_type": "code",
        "outputId": "1f465373-ee0b-438c-f947-f2339acd5a52",
        "colab": {
          "base_uri": "https://localhost:8080/",
          "height": 34
        }
      },
      "source": [
        "print(\" Number of data points : \", mnist.test.labels.shape[0],\" Length of the one hot encoded label vector :\",mnist.test.labels.shape[1])"
      ],
      "execution_count": 0,
      "outputs": [
        {
          "output_type": "stream",
          "text": [
            " Number of data points :  10000  Length of the one hot encoded label vector : 10\n"
          ],
          "name": "stdout"
        }
      ]
    },
    {
      "cell_type": "markdown",
      "metadata": {
        "id": "BBrBTFbvnFJa",
        "colab_type": "text"
      },
      "source": [
        "Every MNIST data point has two parts: an image of a handwritten digit and a corresponding label. We'll call the images \"x\" and the labels \"y\". Both the training set and test set contain images and their corresponding labels; for example the training images are mnist.train.images and the training labels are mnist.train.labels. <br><br>\n",
        "\n",
        "\n",
        "mnist.train.images is a tensor (an n-dimensional array) with a shape of [55000, 784]. The first dimension is an index into the list of images and the second dimension is the index for each pixel in each image. Each entry in the tensor is a pixel intensity between 0 and 1, for a particular pixel in a particular image."
      ]
    },
    {
      "cell_type": "markdown",
      "metadata": {
        "id": "rTNaX4FvpCv2",
        "colab_type": "text"
      },
      "source": [
        "We're going to want our class-labels as \"one-hot vectors\".\n",
        "<br> A one-hot vector is a vector which is 0 in most dimensions, and 1 in a single dimension. In this case, the t-th digit will be represented as a vector which is 1 in the t-th dimension. \n",
        "<br><br>For example, 3 would be [ 0, 0, 0, 1, 0, 0, 0, 0, 0, 0 ]     ( 0, 1, 2, 3, 4, 5, 6, 7, 8, 9 ) Consequently, mnist.train.labels is a [55000, 10] array of floats.\n",
        "\n",
        "One hot encoding of class label "
      ]
    },
    {
      "cell_type": "markdown",
      "metadata": {
        "id": "IRMZLyrnp-JB",
        "colab_type": "text"
      },
      "source": [
        "If you want to assign probabilities to an object being one of several different things, softmax (Multiclass Logistic regression) is the thing to do, because softmax gives us a list of values between 0 and 1 that add up to 1. Even later on, when we train more sophisticated models, the final step will be a layer of softmax.\n",
        "\n",
        "A softmax regression has two steps: first we add up the evidence of our input being in certain classes, and then we convert that evidence into probabilities.\n"
      ]
    },
    {
      "cell_type": "code",
      "metadata": {
        "id": "PuXiqH0EpLos",
        "colab_type": "code",
        "outputId": "7933333a-a2a4-42b1-8666-c40246dd3d25",
        "colab": {
          "base_uri": "https://localhost:8080/",
          "height": 562
        }
      },
      "source": [
        "import tensorflow as tf\n",
        "\n",
        "\n",
        "from tensorflow.python.client import device_lib\n",
        "\n",
        "print( device_lib.list_local_devices() )   # Get a list of devices like GPUs and CPUs available to TF"
      ],
      "execution_count": 0,
      "outputs": [
        {
          "output_type": "stream",
          "text": [
            "[name: \"/device:CPU:0\"\n",
            "device_type: \"CPU\"\n",
            "memory_limit: 268435456\n",
            "locality {\n",
            "}\n",
            "incarnation: 5035554339489558565\n",
            ", name: \"/device:XLA_CPU:0\"\n",
            "device_type: \"XLA_CPU\"\n",
            "memory_limit: 17179869184\n",
            "locality {\n",
            "}\n",
            "incarnation: 12992341055350125480\n",
            "physical_device_desc: \"device: XLA_CPU device\"\n",
            ", name: \"/device:XLA_GPU:0\"\n",
            "device_type: \"XLA_GPU\"\n",
            "memory_limit: 17179869184\n",
            "locality {\n",
            "}\n",
            "incarnation: 11561445467505685014\n",
            "physical_device_desc: \"device: XLA_GPU device\"\n",
            ", name: \"/device:GPU:0\"\n",
            "device_type: \"GPU\"\n",
            "memory_limit: 14800692839\n",
            "locality {\n",
            "  bus_id: 1\n",
            "  links {\n",
            "  }\n",
            "}\n",
            "incarnation: 15814315311471821293\n",
            "physical_device_desc: \"device: 0, name: Tesla T4, pci bus id: 0000:00:04.0, compute capability: 7.5\"\n",
            "]\n"
          ],
          "name": "stdout"
        }
      ]
    },
    {
      "cell_type": "markdown",
      "metadata": {
        "id": "sRRY0Xf4uUMS",
        "colab_type": "text"
      },
      "source": [
        "In tensorflow we have types like constants, variables, placeholders ... etc\n",
        "\n",
        "Suppose we're training  a softmax :\n",
        " Our weights and biases ( b ) {  w.T * x + b } are variables that are  needed to  be updated everytime\n",
        " variable : Something we can update and change\n",
        " \n",
        " constant : Something we can't update and change<br><br>\n",
        " \n",
        " <b>Placeholders </b>: is like a memory location for which we define a size sometimes ( sometimes we don't ) Placeholder can be imagained as  a memory unit that we use to load various mini-batches of input data while training.\n",
        " \n",
        " A placeholder is simply a variable that we will assign data to at a later date.\n",
        "  \n",
        "  Suppose we are training a mini batch of 100 xi , we will use 100 xi's for 1 iteration after the iteration those 100 xi's (value) will be changed. A placeholder is typically defined to store these Transient things like mini batches.\n",
        "  \n",
        "  We can think of it as memory that is allocated for our task\n",
        "  \n",
        "  <i>Ref : https://databricks.com/tensorflow/placeholders\n",
        " "
      ]
    },
    {
      "cell_type": "code",
      "metadata": {
        "id": "Jp_64E-yptXJ",
        "colab_type": "code",
        "colab": {}
      },
      "source": [
        "x = tf.placeholder( tf.float32, [None, 784] )\n",
        "\n",
        "# We want to be able to input any number of MNIST images,  each flattened into a 784-dimensional vector. \n",
        "# We represent this as a 2-D tensor of floating-point numbers, with a shape [None, 784]. \n",
        "\n",
        "# Type 32 bit float values has 2 dimensions one is 784 and the other is None ( idk what it will be ) i,e; no. of cols = 784, no. of datapoints = unknown\n",
        "\n",
        "# dtype (tf.float32) : The type of elements in the tensor to be fed.\n",
        "# shape ([None, 784]): The shape of the tensor to be fed (optional). If the shape is not specified, you can feed a tensor of any shape.\n",
        "\n",
        "# Inserts a placeholder for a tensor that will be always fed.\n",
        "# Important: This tensor will produce an error if evaluated. Its value must be fed using the feed_dict optional argument to Session.run(), Tensor.eval(), or Operation.run().\n",
        "\n",
        "# Ref : https://www.tensorflow.org/api_docs/python/tf/placeholder"
      ],
      "execution_count": 0,
      "outputs": []
    },
    {
      "cell_type": "markdown",
      "metadata": {
        "id": "BwzdtgVfzO7k",
        "colab_type": "text"
      },
      "source": [
        "We also need the weights and biases for our model.  We could imagine treating these like additional inputs, \n",
        "but TensorFlow has an even better way to handle it: Variable. \n",
        "\n",
        "A Variable is a modifiable tensor that lives in TensorFlow's graph of interacting operations. \n",
        "\n",
        "A TensorFlow variable is the best way to represent shared, persistent state manipulated by your program.\n",
        "\n",
        "Variables are manipulated via the tf.Variable class.\n",
        "\n",
        "<i> Ref : https://www.tensorflow.org/guide/variables"
      ]
    },
    {
      "cell_type": "code",
      "metadata": {
        "id": "_kA6UFihq5d1",
        "colab_type": "code",
        "outputId": "b6a88272-6878-43fa-f09c-7b61ad0ec9eb",
        "colab": {
          "base_uri": "https://localhost:8080/",
          "height": 90
        }
      },
      "source": [
        "w = tf.Variable( tf.zeros([784, 10]) )  # Weight, initializing to 0's\n",
        "\n",
        "b = tf.Variable( tf.zeros([10]) )       # Bias\n",
        "\n",
        "# Our input is 784 ( as we have 784 dims ) 784 dims for each weight. This is layer 1\n",
        "# Our Softmax layer (layer 2) has 10 outputs (since we have 10 labels) so we have 784 * 10 connections bw layer 1 and layer 2\n",
        "# Our Softmax has 10 inputs and we have a bias term for input 0"
      ],
      "execution_count": 0,
      "outputs": [
        {
          "output_type": "stream",
          "text": [
            "WARNING:tensorflow:From /usr/local/lib/python3.6/dist-packages/tensorflow/python/framework/op_def_library.py:263: colocate_with (from tensorflow.python.framework.ops) is deprecated and will be removed in a future version.\n",
            "Instructions for updating:\n",
            "Colocations handled automatically by placer.\n"
          ],
          "name": "stdout"
        }
      ]
    },
    {
      "cell_type": "code",
      "metadata": {
        "id": "J__wEThhrEAf",
        "colab_type": "code",
        "outputId": "7620a7e1-9f63-4d3f-c14c-366b64003c80",
        "colab": {
          "base_uri": "https://localhost:8080/",
          "height": 52
        }
      },
      "source": [
        "print( w.shape )\n",
        "type(w)"
      ],
      "execution_count": 0,
      "outputs": [
        {
          "output_type": "stream",
          "text": [
            "(784, 10)\n"
          ],
          "name": "stdout"
        },
        {
          "output_type": "execute_result",
          "data": {
            "text/plain": [
              "tensorflow.python.ops.variables.RefVariable"
            ]
          },
          "metadata": {
            "tags": []
          },
          "execution_count": 11
        }
      ]
    },
    {
      "cell_type": "markdown",
      "metadata": {
        "id": "EFr6pb9049R-",
        "colab_type": "text"
      },
      "source": [
        "Softmax, TensorFlow : A convolutional neural network uses many layers to understand parts of data. But to classify the data, we must have a set of probabilities—we make a final decision.\n",
        "\n",
        "Using softmax, we get a set of probabilities that add up to 1. Softmax is a well-known function that normalizes our values to a standard range (0 to 1).\n",
        "\n",
        "\n",
        "Notes, softmax. This method is used in the final stage of a convolutional neural network. Softmax \"squashes\" values, removing outliers.\n",
        "\n",
        "Tip :  Mathematicians have the best terminology. We can \"squash\" our numbers with softmax.\n",
        "\n",
        "Quote : Softmax is a generalization of the logistic function that \"squashes\" a K-dimensional vector of arbitrary real values to a K-dimensional vector of real values in the range [0, 1] that add up to 1."
      ]
    },
    {
      "cell_type": "code",
      "metadata": {
        "id": "U0EdtaRG2SXM",
        "colab_type": "code",
        "colab": {}
      },
      "source": [
        "y = tf.nn.softmax( tf.matmul(x, w) + b )   # Predicted y\n",
        "\n",
        "# tf.matmul(x, w) + b : This is w.T * x + b\n",
        "# We apply softmax on top of w.T * x + b\n",
        "\n",
        "# Ref : https://www.tensorflow.org/api_docs/python/tf/linalg/matmul\n",
        "# Ref : https://www.tensorflow.org/api_docs/python/tf/nn/softmax"
      ],
      "execution_count": 0,
      "outputs": []
    },
    {
      "cell_type": "code",
      "metadata": {
        "id": "7aVsaiNE2hGD",
        "colab_type": "code",
        "outputId": "5145fa15-da38-463d-ec8d-c22b0fe8a4ce",
        "colab": {
          "base_uri": "https://localhost:8080/",
          "height": 52
        }
      },
      "source": [
        "print( y.shape )\n",
        "type(y)"
      ],
      "execution_count": 0,
      "outputs": [
        {
          "output_type": "stream",
          "text": [
            "(?, 10)\n"
          ],
          "name": "stdout"
        },
        {
          "output_type": "execute_result",
          "data": {
            "text/plain": [
              "tensorflow.python.framework.ops.Tensor"
            ]
          },
          "metadata": {
            "tags": []
          },
          "execution_count": 13
        }
      ]
    },
    {
      "cell_type": "code",
      "metadata": {
        "id": "KFn5M88j2hCt",
        "colab_type": "code",
        "colab": {}
      },
      "source": [
        "Y = tf.placeholder( tf.float32, [None, 10] )  # Y is true label of the images, and similar to x"
      ],
      "execution_count": 0,
      "outputs": []
    },
    {
      "cell_type": "markdown",
      "metadata": {
        "id": "fPKLil8Z61B9",
        "colab_type": "text"
      },
      "source": [
        " <b>Defining the loss function</b> : multi class log-loss/cross-entropy\n",
        "\n",
        " First, tf.log computes the logarithm of each element of y. \n",
        "\n",
        " Next, we multiply each element of Y with the corresponding element   of tf.log(y).  <br><br>\n",
        "\n",
        "Then tf.reduce_sum adds the elements in the second dimension of y,  due to the reduction_indices=[1] parameter or simply 1. \n",
        "\n",
        " Reduction is an operation that removes one or more dimensions from a tensor by performing \n",
        " certain operations across those dimensions.\n",
        "\n",
        "We can specify the \"axis\" we wish to sum—this changes the values summed and the output.\n",
        " \n",
        "<i> Ref : https://www.dotnetperls.com/reduce-sum-tensorflow </i> <br><br>\n",
        "\n",
        " Finally, tf.reduce_mean computes the mean over all the examples in the batch.\n",
        " \n",
        " reduce_mean sums and averages all the values in the tensor (all 6 of them).\n",
        "\n",
        "If we specify an axis of 0. The first elements are averaged, and the second elements are averaged.\n",
        "\n",
        "<i>  Ref : https://www.dotnetperls.com/reduce-mean-tensorflow\n"
      ]
    },
    {
      "cell_type": "code",
      "metadata": {
        "id": "WXhRO_nq2gbR",
        "colab_type": "code",
        "colab": {}
      },
      "source": [
        "# Defining Cross Entropy\n",
        "\n",
        "centropy = tf.reduce_mean( -tf.reduce_sum( Y * tf.log(y), 1 ))\n",
        "\n",
        "# For all i : Take yi log ( Yi ) then Sum it up and take the average\n",
        "# tf.reduce_sum() : Second argument indicates what axis to sum. ( 1 means row sum )\n",
        "\n",
        "# Why -tf.reduce_sum ? : Because we are computing multiclass log-loss, which has minus sign in it."
      ],
      "execution_count": 0,
      "outputs": []
    },
    {
      "cell_type": "code",
      "metadata": {
        "id": "ARc2obxO9pVQ",
        "colab_type": "code",
        "outputId": "f5908e3e-b6d6-497f-80d5-c358cf7d0f42",
        "colab": {
          "base_uri": "https://localhost:8080/",
          "height": 34
        }
      },
      "source": [
        "centropy.shape"
      ],
      "execution_count": 0,
      "outputs": [
        {
          "output_type": "execute_result",
          "data": {
            "text/plain": [
              "TensorShape([])"
            ]
          },
          "metadata": {
            "tags": []
          },
          "execution_count": 16
        }
      ]
    },
    {
      "cell_type": "code",
      "metadata": {
        "id": "1iA0k7wM9pK9",
        "colab_type": "code",
        "outputId": "4fb876bb-8c0b-4c0a-ae2b-cccf33c9c606",
        "colab": {
          "base_uri": "https://localhost:8080/",
          "height": 90
        }
      },
      "source": [
        "# In this case, we ask TensorFlow to minimize cross_entropy \n",
        "# using the gradient descent algorithm with a learning rate of 0.05.\n",
        "\n",
        "\n",
        "trStep = tf.train.GradientDescentOptimizer(0.05).minimize( centropy )  # Train Step\n",
        "\n",
        "# means Training needs to be done with GradientDescent ptimizer which minimizes cross entropy\n",
        "# Here 0.05 is the learning rate\n",
        "\n",
        "# What TensorFlow actually does here, behind the scenes, \n",
        "# is to add new operations to your computation-graph  which implement backpropagation and gradient descent.\n",
        "# Then it gives you back a single operation which, when run, does a step of gradient descent training, \n",
        "# slightly tweaking your variables to reduce the loss.\n",
        "\n",
        "# Ref : # https://www.tensorflow.org/versions/r1.2/api_guides/python/train#Optimizers"
      ],
      "execution_count": 0,
      "outputs": [
        {
          "output_type": "stream",
          "text": [
            "WARNING:tensorflow:From /usr/local/lib/python3.6/dist-packages/tensorflow/python/ops/math_ops.py:3066: to_int32 (from tensorflow.python.ops.math_ops) is deprecated and will be removed in a future version.\n",
            "Instructions for updating:\n",
            "Use tf.cast instead.\n"
          ],
          "name": "stdout"
        }
      ]
    },
    {
      "cell_type": "markdown",
      "metadata": {
        "id": "3zAHzyqrD0g9",
        "colab_type": "text"
      },
      "source": [
        "Tensorflow converts everything to a computation graph\n",
        "\n",
        "Session means we are starting the computation from here\n",
        "\n",
        "Session means we are defining core thing that needs to be run "
      ]
    },
    {
      "cell_type": "code",
      "metadata": {
        "id": "XDzzPxrV9o9N",
        "colab_type": "code",
        "colab": {}
      },
      "source": [
        "session = tf.InteractiveSession()\n",
        "\n",
        "# A class for running TensorFlow operations.\n",
        "# A Session object encapsulates the environment in which Operation objects are executed, and Tensor objects are evaluated. \n",
        "\n",
        "# InteractiveSession : A TensorFlow Session for use in interactive contexts, such as a shell.\n",
        "# This is convenient in interactive shells and IPython notebooks\n",
        "\n",
        "# Ref : https://www.tensorflow.org/api_docs/python/tf/Session\n",
        "# Ref : https://www.tensorflow.org/api_docs/python/tf/InteractiveSession"
      ],
      "execution_count": 0,
      "outputs": []
    },
    {
      "cell_type": "code",
      "metadata": {
        "id": "SkOSFXeOBtUz",
        "colab_type": "code",
        "colab": {}
      },
      "source": [
        "# We first have to create an operation to initialize the variables we created\n",
        "\n",
        "tf.global_variables_initializer().run()\n",
        "\n",
        "# Returns an Op that initializes global variables in the graph."
      ],
      "execution_count": 0,
      "outputs": []
    },
    {
      "cell_type": "code",
      "metadata": {
        "id": "ZylDQ4bZB0fN",
        "colab_type": "code",
        "colab": {}
      },
      "source": [
        "# Each step of the loop, we get a \"mini-batch\" of one hundred random data points from our training set. \n",
        "# We run train_step feeding in the batches data to replace the placeholders\n",
        "\n",
        "for _ in range(1000):\n",
        "  \n",
        "    batchX, batchY = mnist.train.next_batch(100)   # returns a minibatch of 100 xi's and yi's \n",
        "    \n",
        "    session.run( trStep, feed_dict = { x: batchX, Y: batchY} )  # we feed x as batchX and Y as batchY and we feed this batch to Training algo\n",
        "\n",
        "# _ in range : when we don't care about the index we just wanna loop \n",
        "# feed_dict: A dictionary that maps Tensor objects to feed values. \n",
        "\n",
        "# Using small batches of random data is called stochastic training - in this case, stochastic gradient descent. \n",
        "# Ideally, we'd like to use all our data for every step of training because that would give us a better sense of\n",
        "# what we should be doing, but that's expensive. So, instead, we use a different subset every time. \n",
        "# Doing this is cheap and has much of the same benefit."
      ],
      "execution_count": 0,
      "outputs": []
    },
    {
      "cell_type": "code",
      "metadata": {
        "id": "MvpzJqaxFeLV",
        "colab_type": "code",
        "outputId": "a80718dd-08ea-470f-8e75-b620e1775425",
        "colab": {
          "base_uri": "https://localhost:8080/",
          "height": 34
        }
      },
      "source": [
        "correctPred = tf.equal( tf.argmax(y,1), tf.argmax(Y,1) )  \n",
        "\n",
        "# tf.argmax(input, axis=None, name=None, dimension=None) : Returns the index with the largest value across axis of a tensor.\n",
        "\n",
        "# Finding the max value in 10 dim  vec <0,1----9> and checking if both hav the same index\n",
        "# For ex: y1 = < 0.3, 0.1, 0.8, 0.2, 0.3, 0.1, 0.4, 0.1, 0.3, 0.4 >  i,e; label 2\n",
        "#     and Y1 = < 0.3, 0.1, 0.8, 0.2, 0.3, 0.1, 0.4, 0.1, 0.3, 0.4 >  i,e; label 2\n",
        "# That means we have a correct prediction\n",
        "\n",
        "accuracy = tf.reduce_mean( tf.cast( correctPred, tf.float32 ) )\n",
        "\n",
        "# tf.cast : Casts a tensor to a new type.\n",
        "# The operation casts x (in case of Tensor) or x.values (in case of SparseTensor) to dtype.\n",
        "\n",
        "print( session.run( accuracy, feed_dict = { x: mnist.test.images, Y: mnist.test.labels} ) * 100, ' % accuracy ' )\n",
        "\n",
        "\n",
        "# Ref : # https://stackoverflow.com/a/41863099\n"
      ],
      "execution_count": 0,
      "outputs": [
        {
          "output_type": "stream",
          "text": [
            "90.03000259399414  % accuracy \n"
          ],
          "name": "stdout"
        }
      ]
    },
    {
      "cell_type": "code",
      "metadata": {
        "id": "b2P6DFaRHuIO",
        "colab_type": "code",
        "outputId": "10830117-565d-4aab-ab91-ec56726b67fd",
        "colab": {
          "base_uri": "https://localhost:8080/",
          "height": 34
        }
      },
      "source": [
        "print( mnist.train.num_examples ) # equals to no. of data points  "
      ],
      "execution_count": 0,
      "outputs": [
        {
          "output_type": "execute_result",
          "data": {
            "text/plain": [
              "55000"
            ]
          },
          "metadata": {
            "tags": []
          },
          "execution_count": 22
        }
      ]
    },
    {
      "cell_type": "code",
      "metadata": {
        "id": "BQg0sj8aCDKD",
        "colab_type": "code",
        "colab": {}
      },
      "source": [
        "import matplotlib.pyplot as plt\n",
        "import numpy as np\n",
        "\n",
        "# We want our plot to be dynamically updated after each epoch so Dynamic Plotting\n",
        "\n",
        "def plot( x, y, y1, ax ):   # Dynamic Plotting\n",
        "    \n",
        "    ax.plot(x, y, 'b', label = \" Train Loss \")\n",
        "    ax.plot(x, y1, 'r', label = \" Test Loss \")\n",
        "  \n",
        "    if len(x) == 1:\n",
        "        plt.legend()\n",
        "    \n",
        "    fig.canvas.draw()\n",
        "    \n",
        "# Ref : https://gist.github.com/greydanus/f6eee59eaf1d90fcb3b534a25362cea4\n",
        "# Ref : https://stackoverflow.com/a/14434334"
      ],
      "execution_count": 0,
      "outputs": []
    },
    {
      "cell_type": "code",
      "metadata": {
        "id": "BbPDIaCa_YrG",
        "colab_type": "code",
        "outputId": "04aca9a4-ad3b-4e57-c9d5-da100e33a9fe",
        "colab": {
          "base_uri": "https://localhost:8080/",
          "height": 354
        }
      },
      "source": [
        "epochs = 50 \n",
        "# epoch means when all training points have been passed through once to mini-batch is called 1 epoch\n",
        "\n",
        "batch = 1000\n",
        "\n",
        "centropy = tf.reduce_mean( tf.nn.softmax_cross_entropy_with_logits( logits = y, labels = Y ))\n",
        "\n",
        "tStep = tf.train.GradientDescentOptimizer(0.05).minimize( centropy )\n",
        "# means Training needs to be done with GradientDescent optimizer which minimizes cross entropy\n",
        "# Here 0.05 is the learning rate\n",
        "\n",
        "fig, ax = plt.subplots(1,1, figsize = ( 15, 5 )) # Subplot with 1 row and 1 col\n",
        "\n",
        "ax.set_xlabel('epoch')\n",
        "ax.set_ylabel('Soft Max Cross Entropy loss')\n",
        "\n",
        "xs, ytrs, ytes = [], [], []\n",
        "\n",
        "for epoch in range( epochs ):\n",
        "  \n",
        "        train_avg_cost = 0.\n",
        "        test_avg_cost = 0.\n",
        "      \n",
        "        tbatch = int( mnist.train.num_examples / batch )\n",
        "        # Loop over all batches\n",
        "        \n",
        "        for i in range(tbatch):\n",
        "          \n",
        "            batchX, batchY = mnist.train.next_batch( batch )\n",
        "            \n",
        "            _, c = session.run( [tStep, centropy], feed_dict={ x: batchX, Y: batchY })\n",
        "            train_avg_cost += c / tbatch\n",
        "            \n",
        "            c = session.run( centropy, feed_dict={ x: mnist.test.images, Y: mnist.test.labels })\n",
        "            test_avg_cost += c / tbatch\n",
        "\n",
        "        xs.append(epoch)\n",
        "        ytrs.append(train_avg_cost)\n",
        "        ytes.append(test_avg_cost)\n",
        "        plot(xs, ytrs, ytes, ax)\n",
        "        \n",
        "\n",
        "plot(xs, ytrs, ytes, ax)\n",
        "\n",
        "cPrediction = tf.equal( tf.argmax(y,1), tf.argmax(Y,1) )\n",
        "\n",
        "accuracy = tf.reduce_mean( tf.cast(cPrediction, tf.float32) )\n",
        "\n",
        "print(\" Accuracy : \", accuracy.eval( {x: mnist.test.images, Y: mnist.test.labels}) * 100, ' % ')"
      ],
      "execution_count": 0,
      "outputs": [
        {
          "output_type": "stream",
          "text": [
            " Accuracy :  91.04999899864197  % \n"
          ],
          "name": "stdout"
        },
        {
          "output_type": "display_data",
          "data": {
            "image/png": "[encoded data removed]",
            "text/plain": [
              "<Figure size 1080x360 with 1 Axes>"
            ]
          },
          "metadata": {
            "tags": []
          }
        }
      ]
    },
    {
      "cell_type": "markdown",
      "metadata": {
        "id": "Yk6mIzK8FdSn",
        "colab_type": "text"
      },
      "source": [
        "We can see from the above plot of 50 epochs we have a accuracy of 90.81 % which is great but our Training and Test loss are still very far\n",
        "\n",
        "We need to make them come closer to do that we can increase epochs"
      ]
    },
    {
      "cell_type": "code",
      "metadata": {
        "id": "M8hPaVBW_YUw",
        "colab_type": "code",
        "outputId": "9527ab60-7b2f-445e-c184-53ca01fcac44",
        "colab": {
          "base_uri": "https://localhost:8080/",
          "height": 354
        }
      },
      "source": [
        "epochs = 100 \n",
        "# epoch means when all training points have been passed through once to mini-batch is called 1 epoch\n",
        "\n",
        "batch = 1000\n",
        "\n",
        "centropy = tf.reduce_mean( tf.nn.softmax_cross_entropy_with_logits( logits = y, labels = Y ))\n",
        "\n",
        "tStep = tf.train.GradientDescentOptimizer(0.05).minimize( centropy )\n",
        "\n",
        "fig, ax = plt.subplots(1,1, figsize = ( 15, 5 )) # Subplot with 1 row and 1 col\n",
        "\n",
        "ax.set_xlabel('epoch')\n",
        "ax.set_ylabel('Soft Max Cross Entropy loss')\n",
        "\n",
        "xs, ytrs, ytes = [], [], []\n",
        "\n",
        "for epoch in range( epochs ):\n",
        "  \n",
        "        train_avg_cost = 0.\n",
        "        test_avg_cost = 0.\n",
        "      \n",
        "        tbatch = int( mnist.train.num_examples / batch )\n",
        "        # Loop over all batches\n",
        "        \n",
        "        for i in range(tbatch):\n",
        "          \n",
        "            batchX, batchY = mnist.train.next_batch( batch )\n",
        "            \n",
        "            _, c = session.run( [tStep, centropy], feed_dict={ x: batchX, Y: batchY })\n",
        "            train_avg_cost += c / tbatch\n",
        "            \n",
        "            c = session.run( centropy, feed_dict={ x: mnist.test.images, Y: mnist.test.labels })\n",
        "            test_avg_cost += c / tbatch\n",
        "\n",
        "        xs.append(epoch)\n",
        "        ytrs.append(train_avg_cost)\n",
        "        ytes.append(test_avg_cost)\n",
        "        plot(xs, ytrs, ytes, ax)\n",
        "        \n",
        "\n",
        "plot(xs, ytrs, ytes, ax)\n",
        "\n",
        "cPrediction = tf.equal( tf.argmax(y,1), tf.argmax(Y,1) )\n",
        "\n",
        "accuracy = tf.reduce_mean( tf.cast(cPrediction, tf.float32) )\n",
        "\n",
        "print(\" Accuracy : \", accuracy.eval( {x: mnist.test.images, Y: mnist.test.labels}) * 100, ' % ')"
      ],
      "execution_count": 0,
      "outputs": [
        {
          "output_type": "stream",
          "text": [
            " Accuracy :  91.51999950408936  % \n"
          ],
          "name": "stdout"
        },
        {
          "output_type": "display_data",
          "data": {
            "image/png": "[encoded data removed]",
            "text/plain": [
              "<Figure size 1080x360 with 1 Axes>"
            ]
          },
          "metadata": {
            "tags": []
          }
        }
      ]
    },
    {
      "cell_type": "code",
      "metadata": {
        "id": "ozAZgFF6GFiV",
        "colab_type": "code",
        "outputId": "e763a5d2-1e64-4ab8-8fff-74146a8ab75f",
        "colab": {
          "base_uri": "https://localhost:8080/",
          "height": 354
        }
      },
      "source": [
        "epochs = 200 \n",
        "# epoch means when all training points have been passed through once to mini-batch is called 1 epoch\n",
        "\n",
        "batch = 1000\n",
        "\n",
        "centropy = tf.reduce_mean( tf.nn.softmax_cross_entropy_with_logits( logits = y, labels = Y ))\n",
        "\n",
        "tStep = tf.train.GradientDescentOptimizer(0.05).minimize( centropy )\n",
        "\n",
        "fig, ax = plt.subplots(1,1, figsize = ( 15, 5 )) # Subplot with 1 row and 1 col\n",
        "\n",
        "ax.set_xlabel('epoch')\n",
        "ax.set_ylabel('Soft Max Cross Entropy loss')\n",
        "\n",
        "xs, ytrs, ytes = [], [], []\n",
        "\n",
        "for epoch in range( epochs ):\n",
        "  \n",
        "        train_avg_cost = 0.\n",
        "        test_avg_cost = 0.\n",
        "      \n",
        "        tbatch = int( mnist.train.num_examples / batch )\n",
        "        # Loop over all batches\n",
        "        \n",
        "        for i in range(tbatch):\n",
        "          \n",
        "            batchX, batchY = mnist.train.next_batch( batch )\n",
        "            \n",
        "            _, c = session.run( [tStep, centropy], feed_dict={ x: batchX, Y: batchY })\n",
        "            train_avg_cost += c / tbatch\n",
        "            \n",
        "            c = session.run( centropy, feed_dict={ x: mnist.test.images, Y: mnist.test.labels })\n",
        "            test_avg_cost += c / tbatch\n",
        "\n",
        "        xs.append(epoch)\n",
        "        ytrs.append(train_avg_cost)\n",
        "        ytes.append(test_avg_cost)\n",
        "        plot(xs, ytrs, ytes, ax)\n",
        "        \n",
        "\n",
        "plot(xs, ytrs, ytes, ax)\n",
        "\n",
        "cPrediction = tf.equal( tf.argmax(y,1), tf.argmax(Y,1) )\n",
        "\n",
        "accuracy = tf.reduce_mean( tf.cast(cPrediction, tf.float32) )\n",
        "\n",
        "print(\" Accuracy : \", accuracy.eval( {x: mnist.test.images, Y: mnist.test.labels}) * 100, ' % ')"
      ],
      "execution_count": 0,
      "outputs": [
        {
          "output_type": "stream",
          "text": [
            " Accuracy :  91.93000197410583  % \n"
          ],
          "name": "stdout"
        },
        {
          "output_type": "display_data",
          "data": {
            "image/png": "[encoded data removed]",
            "text/plain": [
              "<Figure size 1080x360 with 1 Axes>"
            ]
          },
          "metadata": {
            "tags": []
          }
        }
      ]
    },
    {
      "cell_type": "markdown",
      "metadata": {
        "id": "ZMWuVedUHny1",
        "colab_type": "text"
      },
      "source": [
        "After trying 50 , 100, 200 epochs we see that Accuracy improves slightly but our Train loss and Test loss run parallel to each other in the given plot"
      ]
    },
    {
      "cell_type": "code",
      "metadata": {
        "id": "Mp8s3zB6GgYi",
        "colab_type": "code",
        "colab": {}
      },
      "source": [
        ""
      ],
      "execution_count": 0,
      "outputs": []
    }
  ]
}